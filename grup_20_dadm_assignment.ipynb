{
  "cells": [
    {
      "cell_type": "markdown",
      "source": [
        "## **Fetching the Data**"
      ],
      "metadata": {
        "id": "9IFyTT3Vlbut"
      }
    },
    {
      "cell_type": "code",
      "execution_count": null,
      "metadata": {
        "colab": {
          "base_uri": "https://localhost:8080/"
        },
        "id": "kTjFerhB_E4-",
        "outputId": "b5d80615-6b98-4179-c0a8-8e7479287d75"
      },
      "outputs": [
        {
          "output_type": "stream",
          "name": "stdout",
          "text": [
            "Collecting ucimlrepo\n",
            "  Downloading ucimlrepo-0.0.7-py3-none-any.whl.metadata (5.5 kB)\n",
            "Requirement already satisfied: pandas>=1.0.0 in /usr/local/lib/python3.11/dist-packages (from ucimlrepo) (2.2.2)\n",
            "Requirement already satisfied: certifi>=2020.12.5 in /usr/local/lib/python3.11/dist-packages (from ucimlrepo) (2025.1.31)\n",
            "Requirement already satisfied: numpy>=1.23.2 in /usr/local/lib/python3.11/dist-packages (from pandas>=1.0.0->ucimlrepo) (2.0.2)\n",
            "Requirement already satisfied: python-dateutil>=2.8.2 in /usr/local/lib/python3.11/dist-packages (from pandas>=1.0.0->ucimlrepo) (2.8.2)\n",
            "Requirement already satisfied: pytz>=2020.1 in /usr/local/lib/python3.11/dist-packages (from pandas>=1.0.0->ucimlrepo) (2025.2)\n",
            "Requirement already satisfied: tzdata>=2022.7 in /usr/local/lib/python3.11/dist-packages (from pandas>=1.0.0->ucimlrepo) (2025.2)\n",
            "Requirement already satisfied: six>=1.5 in /usr/local/lib/python3.11/dist-packages (from python-dateutil>=2.8.2->pandas>=1.0.0->ucimlrepo) (1.17.0)\n",
            "Downloading ucimlrepo-0.0.7-py3-none-any.whl (8.0 kB)\n",
            "Installing collected packages: ucimlrepo\n",
            "Successfully installed ucimlrepo-0.0.7\n"
          ]
        }
      ],
      "source": [
        "pip install ucimlrepo"
      ]
    },
    {
      "cell_type": "code",
      "execution_count": null,
      "metadata": {
        "colab": {
          "base_uri": "https://localhost:8080/"
        },
        "id": "Se56dK9v_NRx",
        "outputId": "3666839e-9414-4865-9ff5-af056e61e094"
      },
      "outputs": [
        {
          "output_type": "stream",
          "name": "stdout",
          "text": [
            "{'uci_id': 117, 'name': 'Census-Income (KDD)', 'repository_url': 'https://archive.ics.uci.edu/dataset/117/census+income+kdd', 'data_url': 'https://archive.ics.uci.edu/static/public/117/data.csv', 'abstract': 'This data set contains weighted census data extracted from the 1994 and 1995 current population surveys conducted by the U.S. Census Bureau.', 'area': 'Social Science', 'tasks': ['Classification'], 'characteristics': ['Multivariate'], 'num_instances': 299285, 'num_features': 41, 'feature_types': ['Categorical', 'Integer'], 'demographics': ['Age', 'Occupation', 'Education Level', 'Marital Status', 'Race', 'Sex', 'Other', 'Nationality', 'Income'], 'target_col': ['income'], 'index_col': None, 'has_missing_values': 'yes', 'missing_values_symbol': 'NaN', 'year_of_dataset_creation': 2000, 'last_updated': 'Fri Mar 08 2024', 'dataset_doi': '10.24432/C5N30T', 'creators': [], 'intro_paper': None, 'additional_info': {'summary': \"This data set contains weighted census data extracted from the 1994 and 1995 Current Population Surveys conducted by the U.S. Census Bureau. The data contains 41 demographic and employment related variables. \\r\\n\\r\\nThe instance weight indicates the number of people in the population that each record represents due to stratified sampling. To do real analysis and derive conclusions, this field must be used. This attribute should *not* be used in the classifiers. \\r\\n\\r\\nOne instance per line with comma delimited fields. There are 199523 instances in the data file and 99762 in the test file. \\r\\n\\r\\nThe data was split into train/test in approximately 2/3, 1/3 proportions using MineSet's MIndUtil mineset-to-mlc. \\r\\n\", 'purpose': None, 'funded_by': None, 'instances_represent': None, 'recommended_data_splits': None, 'sensitive_data': None, 'preprocessing_description': None, 'variable_info': 'More information detailing the meaning of the attributes can be found in the Census Bureau\\'s documentation To make use of the data descriptions at this site, the following mappings to the Census Bureau\\'s internal database column names will be needed: \\r\\n\\r\\nage\\t\\t\\t\\t\\t\\tAAGE\\r\\nclass of worker\\t\\t\\t\\t\\tACLSWKR\\r\\nindustry code\\t\\t\\t\\t\\tADTIND\\r\\noccupation code\\t\\t\\t\\t\\tADTOCC\\r\\nadjusted gross income\\t\\t\\t\\tAGI\\r\\neducation\\t\\t\\t\\t\\tAHGA\\r\\nwage per hour\\t\\t\\t\\t\\tAHRSPAY\\r\\nenrolled in edu inst last wk\\t\\t\\tAHSCOL\\r\\nmarital status\\t\\t\\t\\t\\tAMARITL\\r\\nmajor industry code\\t\\t\\t\\tAMJIND\\r\\nmajor occupation code\\t\\t\\t\\tAMJOCC\\r\\nmace\\t\\t\\t\\t\\t\\tARACE\\r\\nhispanic Origin\\t\\t\\t\\t\\tAREORGN\\r\\nsex\\t\\t\\t\\t\\t\\tASEX\\r\\nmember of a labor union\\t\\t\\t\\tAUNMEM\\r\\nreason for unemployment\\t\\t\\t\\tAUNTYPE\\r\\nfull or part time employment stat\\t\\tAWKSTAT\\r\\ncapital gains\\t\\t\\t\\t\\tCAPGAIN\\r\\ncapital losses\\t\\t\\t\\t\\tCAPLOSS\\r\\ndivdends from stocks\\t\\t\\t\\tDIVVAL\\r\\nfederal income tax liability\\t\\t\\tFEDTAX\\r\\ntax filer status\\t\\t\\t\\tFILESTAT\\r\\nregion of previous residence\\t\\t\\tGRINREG\\r\\nstate of previous residence\\t\\t\\tGRINST\\r\\ndetailed household and family stat\\t\\tHHDFMX\\r\\ndetailed household summary in household\\t\\tHHDREL\\r\\ninstance weight\\t\\t\\t\\t\\tMARSUPWT\\r\\nmigration code-change in msa\\t\\t\\tMIGMTR1\\r\\nmigration code-change in reg\\t\\t\\tMIGMTR3\\r\\nmigration code-move within reg\\t\\t\\tMIGMTR4\\r\\nlive in this house 1 year ago\\t\\t\\tMIGSAME\\r\\nmigration prev res in sunbelt\\t\\t\\tMIGSUN\\r\\nnum persons worked for employer\\t\\t\\tNOEMP\\r\\nfamily members under 18\\t\\t\\t\\tPARENT\\r\\ntotal person earnings\\t\\t\\t\\tPEARNVAL\\r\\ncountry of birth father\\t\\t\\t\\tPEFNTVTY\\r\\ncountry of birth mother\\t\\t\\t\\tPEMNTVTY\\r\\ncountry of birth self\\t\\t\\t\\tPENATVTY\\r\\ncitizenship\\t\\t\\t\\t\\tPRCITSHP\\r\\ntotal person income\\t\\t\\t\\tPTOTVAL\\r\\nown business or self employed\\t\\t\\tSEOTR\\r\\ntaxable income amount\\t\\t\\t\\tTAXINC\\r\\nfill inc questionnaire for veteran\\'s admin\\tVETQVA\\r\\nveterans benefits\\t\\t\\t\\tVETYN\\r\\nweeks worked in year\\t\\t\\t\\tWKSWORK\\r\\n\\r\\nNote that Incomes have been binned at the $50K level to present a binary classification problem, much like the original UCI/ADULT database. The goal field of this data, however, was drawn from the \"total person income\" field rather than the \"adjusted gross income\" and may, therefore, behave differently than the orginal ADULT goal field. \\r\\n', 'citation': None}}\n",
            "         name     role         type      demographic  \\\n",
            "0        AAGE  Feature      Integer              Age   \n",
            "1     ACLSWKR  Feature  Categorical             None   \n",
            "2      ADTINK  Feature      Integer             None   \n",
            "3      ADTOCC  Feature      Integer       Occupation   \n",
            "4        AHGA  Feature      Integer  Education Level   \n",
            "5      AHSCOL  Feature  Categorical  Education Level   \n",
            "6     AMARITL  Feature  Categorical   Marital Status   \n",
            "7      AMJIND  Feature  Categorical             None   \n",
            "8      AMJOCC  Feature  Categorical       Occupation   \n",
            "9       ARACE  Feature  Categorical             Race   \n",
            "10    AREORGN  Feature  Categorical             None   \n",
            "11       ASEX  Feature  Categorical              Sex   \n",
            "12     AUNMEM  Feature  Categorical             None   \n",
            "13    AUNTYPE  Feature  Categorical             None   \n",
            "14    AWKSTAT  Feature      Integer             None   \n",
            "15    CAPGAIN  Feature      Integer             None   \n",
            "16    GAPLOSS  Feature      Integer             None   \n",
            "17     DIVVAL  Feature  Categorical             None   \n",
            "18   FILESTAT  Feature  Categorical             None   \n",
            "19    GRINREG  Feature  Categorical             None   \n",
            "20     GRINST  Feature  Categorical             None   \n",
            "21     HHDFMX  Feature   Continuous            Other   \n",
            "22     HHDREL  Feature  Categorical             None   \n",
            "23  MARSUPWRT  Feature  Categorical             None   \n",
            "24    MIGMTR1  Feature  Categorical             None   \n",
            "25    MIGMTR3  Feature  Categorical             None   \n",
            "26    MIGMTR4  Feature  Categorical             None   \n",
            "27    MIGSAME  Feature      Integer             None   \n",
            "28     MIGSUN  Feature  Categorical             None   \n",
            "29      NOEMP  Feature  Categorical             None   \n",
            "30     PARENT  Feature  Categorical             None   \n",
            "31   PEFNTVTY  Feature  Categorical             None   \n",
            "32   PEMNTVTY  Feature      Integer             None   \n",
            "33   PENATVTY  Feature  Categorical      Nationality   \n",
            "34   PRCITSHP  Feature      Integer             None   \n",
            "35      SEOTR  Feature      Integer             None   \n",
            "36     VETQVA  Feature  Categorical             None   \n",
            "37      VETYN  Feature  Categorical             None   \n",
            "38    WKSWORK  Feature  Categorical             None   \n",
            "39     income   Target       Binary           Income   \n",
            "40    AHRSPAY  Feature      Integer             None   \n",
            "41       year  Feature      Integer             None   \n",
            "\n",
            "                                  description units missing_values  \n",
            "0                                         age  None             no  \n",
            "1                             class of worker  None             no  \n",
            "2                               industry code  None             no  \n",
            "3                             occupation code  None             no  \n",
            "4                                   education  None             no  \n",
            "5                   enrolled in edu last week  None             no  \n",
            "6                              marital status  None             no  \n",
            "7                         major industry code  None             no  \n",
            "8                       major occupation code  None             no  \n",
            "9                                        race  None             no  \n",
            "10                            hispanic origin  None             no  \n",
            "11                                        sex  None             no  \n",
            "12                    member of a labor union  None             no  \n",
            "13                    reason for unemployment  None             no  \n",
            "14          full or part time employment stat  None             no  \n",
            "15                              capital gains  None             no  \n",
            "16                             capital losses  None             no  \n",
            "17                      dividends from stocks  None             no  \n",
            "18                           tax filer status  None             no  \n",
            "19               region of previous residence  None             no  \n",
            "20                state of previous residence  None             no  \n",
            "21         detailed household and family stat  None             no  \n",
            "22    detailed household summary in household  None             no  \n",
            "23                            instance weight  None             no  \n",
            "24               migration code-change in msa  None            yes  \n",
            "25               migration code-change in reg  None            yes  \n",
            "26             migration code-move within reg  None            yes  \n",
            "27              live in this house 1 year ago  None             no  \n",
            "28              migration prev res in sunbelt  None            yes  \n",
            "29            num persons worked for employer  None             no  \n",
            "30                    family members under 18  None             no  \n",
            "31                    country of birth father  None            yes  \n",
            "32                    country of birth mother  None            yes  \n",
            "33                      country of birth self  None             no  \n",
            "34                                citizenship  None             no  \n",
            "35              own business or self employed  None             no  \n",
            "36  fill inc questionaire for veteran's admin  None             no  \n",
            "37                          veterans benefits  None             no  \n",
            "38                       weeks worked in year  None             no  \n",
            "39                        below or above $50k  None             no  \n",
            "40                              wage per hour  None             no  \n",
            "41                                   94 or 95  None             no  \n"
          ]
        }
      ],
      "source": [
        "from ucimlrepo import fetch_ucirepo\n",
        "\n",
        "# fetch dataset\n",
        "census_income_kdd = fetch_ucirepo(id=117)\n",
        "\n",
        "# data (as pandas dataframes)\n",
        "X = census_income_kdd.data.features\n",
        "y = census_income_kdd.data.targets\n",
        "\n",
        "# metadata\n",
        "print(census_income_kdd.metadata)\n",
        "\n",
        "# variable information\n",
        "print(census_income_kdd.variables)"
      ]
    },
    {
      "cell_type": "markdown",
      "source": [
        "## **Performing EDA**"
      ],
      "metadata": {
        "id": "EdlmUUS2afHV"
      }
    },
    {
      "cell_type": "code",
      "execution_count": null,
      "metadata": {
        "colab": {
          "base_uri": "https://localhost:8080/",
          "height": 585
        },
        "id": "k1BbD0-S5s2i",
        "outputId": "b4cdfc75-b814-4139-cd70-68a724225b6a"
      },
      "outputs": [
        {
          "output_type": "execute_result",
          "data": {
            "text/plain": [
              "   AAGE                          ACLSWKR  ADTINK  ADTOCC  \\\n",
              "0    73                  Not in universe       0       0   \n",
              "1    58   Self-employed-not incorporated       4      34   \n",
              "2    18                  Not in universe       0       0   \n",
              "3     9                  Not in universe       0       0   \n",
              "4    10                  Not in universe       0       0   \n",
              "\n",
              "                          AHGA            AHSCOL         AMARITL  \\\n",
              "0         High school graduate   Not in universe         Widowed   \n",
              "1   Some college but no degree   Not in universe        Divorced   \n",
              "2                   10th grade       High school   Never married   \n",
              "3                     Children   Not in universe   Never married   \n",
              "4                     Children   Not in universe   Never married   \n",
              "\n",
              "                         AMJIND                                AMJOCC  \\\n",
              "0   Not in universe or children                       Not in universe   \n",
              "1                  Construction   Precision production craft & repair   \n",
              "2   Not in universe or children                       Not in universe   \n",
              "3   Not in universe or children                       Not in universe   \n",
              "4   Not in universe or children                       Not in universe   \n",
              "\n",
              "                        ARACE  ...        PEFNTVTY        PEMNTVTY  \\\n",
              "0                       White  ...   United-States   United-States   \n",
              "1                       White  ...   United-States   United-States   \n",
              "2   Asian or Pacific Islander  ...         Vietnam         Vietnam   \n",
              "3                       White  ...   United-States   United-States   \n",
              "4                       White  ...   United-States   United-States   \n",
              "\n",
              "         PENATVTY                              PRCITSHP SEOTR  \\\n",
              "0   United-States     Native- Born in the United States     0   \n",
              "1   United-States     Native- Born in the United States     0   \n",
              "2         Vietnam   Foreign born- Not a citizen of U S      0   \n",
              "3   United-States     Native- Born in the United States     0   \n",
              "4   United-States     Native- Born in the United States     0   \n",
              "\n",
              "             VETQVA  VETYN  WKSWORK AHRSPAY year  \n",
              "0   Not in universe      2        0       0   95  \n",
              "1   Not in universe      2       52       0   94  \n",
              "2   Not in universe      2        0       0   95  \n",
              "3   Not in universe      0        0       0   94  \n",
              "4   Not in universe      0        0       0   94  \n",
              "\n",
              "[5 rows x 41 columns]"
            ],
            "text/html": [
              "\n",
              "  <div id=\"df-bc23f741-0863-4e76-a2f8-e11f4c8436d8\" class=\"colab-df-container\">\n",
              "    <div>\n",
              "<style scoped>\n",
              "    .dataframe tbody tr th:only-of-type {\n",
              "        vertical-align: middle;\n",
              "    }\n",
              "\n",
              "    .dataframe tbody tr th {\n",
              "        vertical-align: top;\n",
              "    }\n",
              "\n",
              "    .dataframe thead th {\n",
              "        text-align: right;\n",
              "    }\n",
              "</style>\n",
              "<table border=\"1\" class=\"dataframe\">\n",
              "  <thead>\n",
              "    <tr style=\"text-align: right;\">\n",
              "      <th></th>\n",
              "      <th>AAGE</th>\n",
              "      <th>ACLSWKR</th>\n",
              "      <th>ADTINK</th>\n",
              "      <th>ADTOCC</th>\n",
              "      <th>AHGA</th>\n",
              "      <th>AHSCOL</th>\n",
              "      <th>AMARITL</th>\n",
              "      <th>AMJIND</th>\n",
              "      <th>AMJOCC</th>\n",
              "      <th>ARACE</th>\n",
              "      <th>...</th>\n",
              "      <th>PEFNTVTY</th>\n",
              "      <th>PEMNTVTY</th>\n",
              "      <th>PENATVTY</th>\n",
              "      <th>PRCITSHP</th>\n",
              "      <th>SEOTR</th>\n",
              "      <th>VETQVA</th>\n",
              "      <th>VETYN</th>\n",
              "      <th>WKSWORK</th>\n",
              "      <th>AHRSPAY</th>\n",
              "      <th>year</th>\n",
              "    </tr>\n",
              "  </thead>\n",
              "  <tbody>\n",
              "    <tr>\n",
              "      <th>0</th>\n",
              "      <td>73</td>\n",
              "      <td>Not in universe</td>\n",
              "      <td>0</td>\n",
              "      <td>0</td>\n",
              "      <td>High school graduate</td>\n",
              "      <td>Not in universe</td>\n",
              "      <td>Widowed</td>\n",
              "      <td>Not in universe or children</td>\n",
              "      <td>Not in universe</td>\n",
              "      <td>White</td>\n",
              "      <td>...</td>\n",
              "      <td>United-States</td>\n",
              "      <td>United-States</td>\n",
              "      <td>United-States</td>\n",
              "      <td>Native- Born in the United States</td>\n",
              "      <td>0</td>\n",
              "      <td>Not in universe</td>\n",
              "      <td>2</td>\n",
              "      <td>0</td>\n",
              "      <td>0</td>\n",
              "      <td>95</td>\n",
              "    </tr>\n",
              "    <tr>\n",
              "      <th>1</th>\n",
              "      <td>58</td>\n",
              "      <td>Self-employed-not incorporated</td>\n",
              "      <td>4</td>\n",
              "      <td>34</td>\n",
              "      <td>Some college but no degree</td>\n",
              "      <td>Not in universe</td>\n",
              "      <td>Divorced</td>\n",
              "      <td>Construction</td>\n",
              "      <td>Precision production craft &amp; repair</td>\n",
              "      <td>White</td>\n",
              "      <td>...</td>\n",
              "      <td>United-States</td>\n",
              "      <td>United-States</td>\n",
              "      <td>United-States</td>\n",
              "      <td>Native- Born in the United States</td>\n",
              "      <td>0</td>\n",
              "      <td>Not in universe</td>\n",
              "      <td>2</td>\n",
              "      <td>52</td>\n",
              "      <td>0</td>\n",
              "      <td>94</td>\n",
              "    </tr>\n",
              "    <tr>\n",
              "      <th>2</th>\n",
              "      <td>18</td>\n",
              "      <td>Not in universe</td>\n",
              "      <td>0</td>\n",
              "      <td>0</td>\n",
              "      <td>10th grade</td>\n",
              "      <td>High school</td>\n",
              "      <td>Never married</td>\n",
              "      <td>Not in universe or children</td>\n",
              "      <td>Not in universe</td>\n",
              "      <td>Asian or Pacific Islander</td>\n",
              "      <td>...</td>\n",
              "      <td>Vietnam</td>\n",
              "      <td>Vietnam</td>\n",
              "      <td>Vietnam</td>\n",
              "      <td>Foreign born- Not a citizen of U S</td>\n",
              "      <td>0</td>\n",
              "      <td>Not in universe</td>\n",
              "      <td>2</td>\n",
              "      <td>0</td>\n",
              "      <td>0</td>\n",
              "      <td>95</td>\n",
              "    </tr>\n",
              "    <tr>\n",
              "      <th>3</th>\n",
              "      <td>9</td>\n",
              "      <td>Not in universe</td>\n",
              "      <td>0</td>\n",
              "      <td>0</td>\n",
              "      <td>Children</td>\n",
              "      <td>Not in universe</td>\n",
              "      <td>Never married</td>\n",
              "      <td>Not in universe or children</td>\n",
              "      <td>Not in universe</td>\n",
              "      <td>White</td>\n",
              "      <td>...</td>\n",
              "      <td>United-States</td>\n",
              "      <td>United-States</td>\n",
              "      <td>United-States</td>\n",
              "      <td>Native- Born in the United States</td>\n",
              "      <td>0</td>\n",
              "      <td>Not in universe</td>\n",
              "      <td>0</td>\n",
              "      <td>0</td>\n",
              "      <td>0</td>\n",
              "      <td>94</td>\n",
              "    </tr>\n",
              "    <tr>\n",
              "      <th>4</th>\n",
              "      <td>10</td>\n",
              "      <td>Not in universe</td>\n",
              "      <td>0</td>\n",
              "      <td>0</td>\n",
              "      <td>Children</td>\n",
              "      <td>Not in universe</td>\n",
              "      <td>Never married</td>\n",
              "      <td>Not in universe or children</td>\n",
              "      <td>Not in universe</td>\n",
              "      <td>White</td>\n",
              "      <td>...</td>\n",
              "      <td>United-States</td>\n",
              "      <td>United-States</td>\n",
              "      <td>United-States</td>\n",
              "      <td>Native- Born in the United States</td>\n",
              "      <td>0</td>\n",
              "      <td>Not in universe</td>\n",
              "      <td>0</td>\n",
              "      <td>0</td>\n",
              "      <td>0</td>\n",
              "      <td>94</td>\n",
              "    </tr>\n",
              "  </tbody>\n",
              "</table>\n",
              "<p>5 rows × 41 columns</p>\n",
              "</div>\n",
              "    <div class=\"colab-df-buttons\">\n",
              "\n",
              "  <div class=\"colab-df-container\">\n",
              "    <button class=\"colab-df-convert\" onclick=\"convertToInteractive('df-bc23f741-0863-4e76-a2f8-e11f4c8436d8')\"\n",
              "            title=\"Convert this dataframe to an interactive table.\"\n",
              "            style=\"display:none;\">\n",
              "\n",
              "  <svg xmlns=\"http://www.w3.org/2000/svg\" height=\"24px\" viewBox=\"0 -960 960 960\">\n",
              "    <path d=\"M120-120v-720h720v720H120Zm60-500h600v-160H180v160Zm220 220h160v-160H400v160Zm0 220h160v-160H400v160ZM180-400h160v-160H180v160Zm440 0h160v-160H620v160ZM180-180h160v-160H180v160Zm440 0h160v-160H620v160Z\"/>\n",
              "  </svg>\n",
              "    </button>\n",
              "\n",
              "  <style>\n",
              "    .colab-df-container {\n",
              "      display:flex;\n",
              "      gap: 12px;\n",
              "    }\n",
              "\n",
              "    .colab-df-convert {\n",
              "      background-color: #E8F0FE;\n",
              "      border: none;\n",
              "      border-radius: 50%;\n",
              "      cursor: pointer;\n",
              "      display: none;\n",
              "      fill: #1967D2;\n",
              "      height: 32px;\n",
              "      padding: 0 0 0 0;\n",
              "      width: 32px;\n",
              "    }\n",
              "\n",
              "    .colab-df-convert:hover {\n",
              "      background-color: #E2EBFA;\n",
              "      box-shadow: 0px 1px 2px rgba(60, 64, 67, 0.3), 0px 1px 3px 1px rgba(60, 64, 67, 0.15);\n",
              "      fill: #174EA6;\n",
              "    }\n",
              "\n",
              "    .colab-df-buttons div {\n",
              "      margin-bottom: 4px;\n",
              "    }\n",
              "\n",
              "    [theme=dark] .colab-df-convert {\n",
              "      background-color: #3B4455;\n",
              "      fill: #D2E3FC;\n",
              "    }\n",
              "\n",
              "    [theme=dark] .colab-df-convert:hover {\n",
              "      background-color: #434B5C;\n",
              "      box-shadow: 0px 1px 3px 1px rgba(0, 0, 0, 0.15);\n",
              "      filter: drop-shadow(0px 1px 2px rgba(0, 0, 0, 0.3));\n",
              "      fill: #FFFFFF;\n",
              "    }\n",
              "  </style>\n",
              "\n",
              "    <script>\n",
              "      const buttonEl =\n",
              "        document.querySelector('#df-bc23f741-0863-4e76-a2f8-e11f4c8436d8 button.colab-df-convert');\n",
              "      buttonEl.style.display =\n",
              "        google.colab.kernel.accessAllowed ? 'block' : 'none';\n",
              "\n",
              "      async function convertToInteractive(key) {\n",
              "        const element = document.querySelector('#df-bc23f741-0863-4e76-a2f8-e11f4c8436d8');\n",
              "        const dataTable =\n",
              "          await google.colab.kernel.invokeFunction('convertToInteractive',\n",
              "                                                    [key], {});\n",
              "        if (!dataTable) return;\n",
              "\n",
              "        const docLinkHtml = 'Like what you see? Visit the ' +\n",
              "          '<a target=\"_blank\" href=https://colab.research.google.com/notebooks/data_table.ipynb>data table notebook</a>'\n",
              "          + ' to learn more about interactive tables.';\n",
              "        element.innerHTML = '';\n",
              "        dataTable['output_type'] = 'display_data';\n",
              "        await google.colab.output.renderOutput(dataTable, element);\n",
              "        const docLink = document.createElement('div');\n",
              "        docLink.innerHTML = docLinkHtml;\n",
              "        element.appendChild(docLink);\n",
              "      }\n",
              "    </script>\n",
              "  </div>\n",
              "\n",
              "\n",
              "<div id=\"df-eb11ce7a-3e85-47d3-891a-22dc8e42503f\">\n",
              "  <button class=\"colab-df-quickchart\" onclick=\"quickchart('df-eb11ce7a-3e85-47d3-891a-22dc8e42503f')\"\n",
              "            title=\"Suggest charts\"\n",
              "            style=\"display:none;\">\n",
              "\n",
              "<svg xmlns=\"http://www.w3.org/2000/svg\" height=\"24px\"viewBox=\"0 0 24 24\"\n",
              "     width=\"24px\">\n",
              "    <g>\n",
              "        <path d=\"M19 3H5c-1.1 0-2 .9-2 2v14c0 1.1.9 2 2 2h14c1.1 0 2-.9 2-2V5c0-1.1-.9-2-2-2zM9 17H7v-7h2v7zm4 0h-2V7h2v10zm4 0h-2v-4h2v4z\"/>\n",
              "    </g>\n",
              "</svg>\n",
              "  </button>\n",
              "\n",
              "<style>\n",
              "  .colab-df-quickchart {\n",
              "      --bg-color: #E8F0FE;\n",
              "      --fill-color: #1967D2;\n",
              "      --hover-bg-color: #E2EBFA;\n",
              "      --hover-fill-color: #174EA6;\n",
              "      --disabled-fill-color: #AAA;\n",
              "      --disabled-bg-color: #DDD;\n",
              "  }\n",
              "\n",
              "  [theme=dark] .colab-df-quickchart {\n",
              "      --bg-color: #3B4455;\n",
              "      --fill-color: #D2E3FC;\n",
              "      --hover-bg-color: #434B5C;\n",
              "      --hover-fill-color: #FFFFFF;\n",
              "      --disabled-bg-color: #3B4455;\n",
              "      --disabled-fill-color: #666;\n",
              "  }\n",
              "\n",
              "  .colab-df-quickchart {\n",
              "    background-color: var(--bg-color);\n",
              "    border: none;\n",
              "    border-radius: 50%;\n",
              "    cursor: pointer;\n",
              "    display: none;\n",
              "    fill: var(--fill-color);\n",
              "    height: 32px;\n",
              "    padding: 0;\n",
              "    width: 32px;\n",
              "  }\n",
              "\n",
              "  .colab-df-quickchart:hover {\n",
              "    background-color: var(--hover-bg-color);\n",
              "    box-shadow: 0 1px 2px rgba(60, 64, 67, 0.3), 0 1px 3px 1px rgba(60, 64, 67, 0.15);\n",
              "    fill: var(--button-hover-fill-color);\n",
              "  }\n",
              "\n",
              "  .colab-df-quickchart-complete:disabled,\n",
              "  .colab-df-quickchart-complete:disabled:hover {\n",
              "    background-color: var(--disabled-bg-color);\n",
              "    fill: var(--disabled-fill-color);\n",
              "    box-shadow: none;\n",
              "  }\n",
              "\n",
              "  .colab-df-spinner {\n",
              "    border: 2px solid var(--fill-color);\n",
              "    border-color: transparent;\n",
              "    border-bottom-color: var(--fill-color);\n",
              "    animation:\n",
              "      spin 1s steps(1) infinite;\n",
              "  }\n",
              "\n",
              "  @keyframes spin {\n",
              "    0% {\n",
              "      border-color: transparent;\n",
              "      border-bottom-color: var(--fill-color);\n",
              "      border-left-color: var(--fill-color);\n",
              "    }\n",
              "    20% {\n",
              "      border-color: transparent;\n",
              "      border-left-color: var(--fill-color);\n",
              "      border-top-color: var(--fill-color);\n",
              "    }\n",
              "    30% {\n",
              "      border-color: transparent;\n",
              "      border-left-color: var(--fill-color);\n",
              "      border-top-color: var(--fill-color);\n",
              "      border-right-color: var(--fill-color);\n",
              "    }\n",
              "    40% {\n",
              "      border-color: transparent;\n",
              "      border-right-color: var(--fill-color);\n",
              "      border-top-color: var(--fill-color);\n",
              "    }\n",
              "    60% {\n",
              "      border-color: transparent;\n",
              "      border-right-color: var(--fill-color);\n",
              "    }\n",
              "    80% {\n",
              "      border-color: transparent;\n",
              "      border-right-color: var(--fill-color);\n",
              "      border-bottom-color: var(--fill-color);\n",
              "    }\n",
              "    90% {\n",
              "      border-color: transparent;\n",
              "      border-bottom-color: var(--fill-color);\n",
              "    }\n",
              "  }\n",
              "</style>\n",
              "\n",
              "  <script>\n",
              "    async function quickchart(key) {\n",
              "      const quickchartButtonEl =\n",
              "        document.querySelector('#' + key + ' button');\n",
              "      quickchartButtonEl.disabled = true;  // To prevent multiple clicks.\n",
              "      quickchartButtonEl.classList.add('colab-df-spinner');\n",
              "      try {\n",
              "        const charts = await google.colab.kernel.invokeFunction(\n",
              "            'suggestCharts', [key], {});\n",
              "      } catch (error) {\n",
              "        console.error('Error during call to suggestCharts:', error);\n",
              "      }\n",
              "      quickchartButtonEl.classList.remove('colab-df-spinner');\n",
              "      quickchartButtonEl.classList.add('colab-df-quickchart-complete');\n",
              "    }\n",
              "    (() => {\n",
              "      let quickchartButtonEl =\n",
              "        document.querySelector('#df-eb11ce7a-3e85-47d3-891a-22dc8e42503f button');\n",
              "      quickchartButtonEl.style.display =\n",
              "        google.colab.kernel.accessAllowed ? 'block' : 'none';\n",
              "    })();\n",
              "  </script>\n",
              "</div>\n",
              "\n",
              "    </div>\n",
              "  </div>\n"
            ],
            "application/vnd.google.colaboratory.intrinsic+json": {
              "type": "dataframe",
              "variable_name": "X"
            }
          },
          "metadata": {},
          "execution_count": 3
        }
      ],
      "source": [
        "X.head()"
      ]
    },
    {
      "cell_type": "code",
      "execution_count": null,
      "metadata": {
        "colab": {
          "base_uri": "https://localhost:8080/",
          "height": 195
        },
        "id": "7ro1OWH85yxc",
        "outputId": "73deeccd-ee14-44f0-f1f0-db21b06bb8f3"
      },
      "outputs": [
        {
          "output_type": "stream",
          "name": "stdout",
          "text": [
            "Frequency of 'target' column in balanced_data:\n"
          ]
        },
        {
          "output_type": "execute_result",
          "data": {
            "text/plain": [
              "income\n",
              "-50000      187141\n",
              " 50000+.     12382\n",
              "Name: count, dtype: int64"
            ],
            "text/html": [
              "<div>\n",
              "<style scoped>\n",
              "    .dataframe tbody tr th:only-of-type {\n",
              "        vertical-align: middle;\n",
              "    }\n",
              "\n",
              "    .dataframe tbody tr th {\n",
              "        vertical-align: top;\n",
              "    }\n",
              "\n",
              "    .dataframe thead th {\n",
              "        text-align: right;\n",
              "    }\n",
              "</style>\n",
              "<table border=\"1\" class=\"dataframe\">\n",
              "  <thead>\n",
              "    <tr style=\"text-align: right;\">\n",
              "      <th></th>\n",
              "      <th>count</th>\n",
              "    </tr>\n",
              "    <tr>\n",
              "      <th>income</th>\n",
              "      <th></th>\n",
              "    </tr>\n",
              "  </thead>\n",
              "  <tbody>\n",
              "    <tr>\n",
              "      <th>-50000</th>\n",
              "      <td>187141</td>\n",
              "    </tr>\n",
              "    <tr>\n",
              "      <th>50000+.</th>\n",
              "      <td>12382</td>\n",
              "    </tr>\n",
              "  </tbody>\n",
              "</table>\n",
              "</div><br><label><b>dtype:</b> int64</label>"
            ]
          },
          "metadata": {},
          "execution_count": 4
        }
      ],
      "source": [
        "# To check the frequency of the 'target' column in the balanced dataset\n",
        "target_frequency = y['income'].value_counts()\n",
        "\n",
        "# Print the frequency\n",
        "print(\"Frequency of 'target' column in balanced_data:\")\n",
        "target_frequency\n"
      ]
    },
    {
      "cell_type": "code",
      "execution_count": null,
      "metadata": {
        "id": "fn78L_8__Vs6"
      },
      "outputs": [],
      "source": [
        "# #making a spss file\n",
        "# !pip install pyreadstat\n",
        "# import pandas as pd\n",
        "# import pyreadstat\n",
        "\n",
        "# # Combine features and target\n",
        "# df = pd.concat([X, y], axis=1)\n",
        "\n",
        "# # Save as SPSS .sav file\n",
        "# pyreadstat.write_sav(df, \"census_income_kdd.sav\")\n",
        "\n",
        "# print(\"SPSS file saved successfully!\")\n"
      ]
    },
    {
      "cell_type": "code",
      "execution_count": null,
      "metadata": {
        "colab": {
          "base_uri": "https://localhost:8080/"
        },
        "id": "bAVIAziFUQFj",
        "outputId": "3b9597a3-060d-4e88-cde1-75d7dffb24c8"
      },
      "outputs": [
        {
          "output_type": "stream",
          "name": "stdout",
          "text": [
            "Requirement already satisfied: ucimlrepo in /usr/local/lib/python3.11/dist-packages (0.0.7)\n",
            "Requirement already satisfied: pandas>=1.0.0 in /usr/local/lib/python3.11/dist-packages (from ucimlrepo) (2.2.2)\n",
            "Requirement already satisfied: certifi>=2020.12.5 in /usr/local/lib/python3.11/dist-packages (from ucimlrepo) (2025.1.31)\n",
            "Requirement already satisfied: numpy>=1.23.2 in /usr/local/lib/python3.11/dist-packages (from pandas>=1.0.0->ucimlrepo) (2.0.2)\n",
            "Requirement already satisfied: python-dateutil>=2.8.2 in /usr/local/lib/python3.11/dist-packages (from pandas>=1.0.0->ucimlrepo) (2.8.2)\n",
            "Requirement already satisfied: pytz>=2020.1 in /usr/local/lib/python3.11/dist-packages (from pandas>=1.0.0->ucimlrepo) (2025.2)\n",
            "Requirement already satisfied: tzdata>=2022.7 in /usr/local/lib/python3.11/dist-packages (from pandas>=1.0.0->ucimlrepo) (2025.2)\n",
            "Requirement already satisfied: six>=1.5 in /usr/local/lib/python3.11/dist-packages (from python-dateutil>=2.8.2->pandas>=1.0.0->ucimlrepo) (1.17.0)\n",
            "Collecting pyreadstat\n",
            "  Downloading pyreadstat-1.2.8-cp311-cp311-manylinux_2_17_x86_64.manylinux2014_x86_64.whl.metadata (1.0 kB)\n",
            "Requirement already satisfied: pandas>=1.2.0 in /usr/local/lib/python3.11/dist-packages (from pyreadstat) (2.2.2)\n",
            "Requirement already satisfied: numpy>=1.23.2 in /usr/local/lib/python3.11/dist-packages (from pandas>=1.2.0->pyreadstat) (2.0.2)\n",
            "Requirement already satisfied: python-dateutil>=2.8.2 in /usr/local/lib/python3.11/dist-packages (from pandas>=1.2.0->pyreadstat) (2.8.2)\n",
            "Requirement already satisfied: pytz>=2020.1 in /usr/local/lib/python3.11/dist-packages (from pandas>=1.2.0->pyreadstat) (2025.2)\n",
            "Requirement already satisfied: tzdata>=2022.7 in /usr/local/lib/python3.11/dist-packages (from pandas>=1.2.0->pyreadstat) (2025.2)\n",
            "Requirement already satisfied: six>=1.5 in /usr/local/lib/python3.11/dist-packages (from python-dateutil>=2.8.2->pandas>=1.2.0->pyreadstat) (1.17.0)\n",
            "Downloading pyreadstat-1.2.8-cp311-cp311-manylinux_2_17_x86_64.manylinux2014_x86_64.whl (2.9 MB)\n",
            "\u001b[2K   \u001b[90m━━━━━━━━━━━━━━━━━━━━━━━━━━━━━━━━━━━━━━━━\u001b[0m \u001b[32m2.9/2.9 MB\u001b[0m \u001b[31m67.9 MB/s\u001b[0m eta \u001b[36m0:00:00\u001b[0m\n",
            "\u001b[?25hInstalling collected packages: pyreadstat\n",
            "Successfully installed pyreadstat-1.2.8\n",
            "Number of categorical features: 29\n",
            "Number of numerical features: 13\n"
          ]
        }
      ],
      "source": [
        "# To count the number of categorical features and numerical featurea\n",
        "\n",
        "from ucimlrepo import fetch_ucirepo\n",
        "import pandas as pd\n",
        "#import pyreadstat\n",
        "\n",
        "# Install necessary libraries\n",
        "!pip install ucimlrepo\n",
        "!pip install pyreadstat\n",
        "\n",
        "# fetch dataset\n",
        "census_income_kdd = fetch_ucirepo(id=117)\n",
        "\n",
        "# data (as pandas dataframes)\n",
        "X = census_income_kdd.data.features\n",
        "y = census_income_kdd.data.targets\n",
        "\n",
        "# To combine features and target\n",
        "df = pd.concat([X, y], axis=1)\n",
        "\n",
        "# To identify categorical and numerical features\n",
        "categorical_features = df.select_dtypes(include=['object', 'category']).columns.tolist()#\n",
        "numerical_features = df.select_dtypes(include=['number']).columns.tolist()\n",
        "\n",
        "\n",
        "# To count the number of categorical and numerical features\n",
        "num_categorical_features = len(categorical_features)\n",
        "num_numerical_features = len(numerical_features)\n",
        "\n",
        "print(f\"Number of categorical features: {num_categorical_features}\")\n",
        "print(f\"Number of numerical features: {num_numerical_features}\")\n"
      ]
    },
    {
      "cell_type": "code",
      "execution_count": null,
      "metadata": {
        "colab": {
          "base_uri": "https://localhost:8080/",
          "height": 1000
        },
        "id": "uz7EGz7T8CxY",
        "outputId": "fbab718f-910d-4036-e77c-ace3da767b96"
      },
      "outputs": [
        {
          "output_type": "stream",
          "name": "stdout",
          "text": [
            "Dataset Shape: (199523, 42)\n"
          ]
        },
        {
          "output_type": "display_data",
          "data": {
            "text/plain": [
              "<Figure size 1200x800 with 16 Axes>"
            ],
            "image/png": "[encoded data removed]"
          },
          "metadata": {}
        },
        {
          "output_type": "display_data",
          "data": {
            "text/plain": [
              "<Figure size 640x480 with 1 Axes>"
            ],
            "image/png": "[encoded data removed]"
          },
          "metadata": {}
        },
        {
          "output_type": "execute_result",
          "data": {
            "text/plain": [
              "'sns.boxplot(x=df[\"ASEX\"], y=df[\"PTOTVAL\"])\\nplt.title(\"Income vs Gender\")\\nplt.show()'"
            ],
            "application/vnd.google.colaboratory.intrinsic+json": {
              "type": "string"
            }
          },
          "metadata": {},
          "execution_count": 9
        }
      ],
      "source": [
        "# To check the first few rows\n",
        "print(\"Dataset Shape:\", df.shape)\n",
        "df.head()\n",
        "df.describe()\n",
        "\n",
        "import matplotlib.pyplot as plt\n",
        "import seaborn as sns\n",
        "df.hist(figsize=(12, 8), bins=30)\n",
        "plt.show()\n",
        "\n",
        "\n",
        "sns.countplot(x=df[\"ASEX\"])  # Example: Gender distribution\n",
        "plt.title(\"Gender Distribution\")\n",
        "plt.show()\n",
        "\n",
        "\n",
        "'''sns.boxplot(x=df[\"ASEX\"], y=df[\"PTOTVAL\"])\n",
        "plt.title(\"Income vs Gender\")\n",
        "plt.show()'''\n",
        "\n"
      ]
    },
    {
      "cell_type": "code",
      "execution_count": null,
      "metadata": {
        "colab": {
          "base_uri": "https://localhost:8080/",
          "height": 410
        },
        "id": "tAPcsGOZ9kai",
        "outputId": "de1973af-0d54-4320-a32a-d308f2cbc0f4"
      },
      "outputs": [
        {
          "output_type": "display_data",
          "data": {
            "text/plain": [
              "<Figure size 600x400 with 1 Axes>"
            ],
            "image/png": "[encoded data removed]"
          },
          "metadata": {}
        }
      ],
      "source": [
        "import matplotlib.pyplot as plt\n",
        "import seaborn as sns\n",
        "# Assuming 'df' and 'y' are already defined from the previous code.\n",
        "\n",
        "# To ceck the distribution of the target variable 'income'\n",
        "plt.figure(figsize=(6,4))\n",
        "sns.countplot(x='income', data=df)\n",
        "plt.title('Distribution of Income (>50K vs ≤50K)')\n",
        "plt.xlabel('Income Level')\n",
        "plt.ylabel('Count')\n",
        "plt.show()"
      ]
    },
    {
      "cell_type": "code",
      "execution_count": null,
      "metadata": {
        "colab": {
          "base_uri": "https://localhost:8080/",
          "height": 1000
        },
        "id": "L_-ysZWQCr7y",
        "outputId": "137fdacf-701e-48f8-dee2-03d34bc15a19"
      },
      "outputs": [
        {
          "output_type": "stream",
          "name": "stdout",
          "text": [
            "               AAGE    ADTINK    ADTOCC   CAPGAIN   GAPLOSS    DIVVAL  \\\n",
            "AAGE       1.000000  0.157822  0.117414  0.053590  0.063351  0.104976   \n",
            "ADTINK     0.157822  1.000000  0.563493  0.066017  0.072586  0.012774   \n",
            "ADTOCC     0.117414  0.563493  1.000000  0.002534  0.043680 -0.026726   \n",
            "CAPGAIN    0.053590  0.066017  0.002534  1.000000 -0.012700  0.131476   \n",
            "GAPLOSS    0.063351  0.072586  0.043680 -0.012700  1.000000  0.042427   \n",
            "DIVVAL     0.104976  0.012774 -0.026726  0.131476  0.042427  1.000000   \n",
            "MARSUPWRT -0.001611  0.029388  0.027047  0.002549  0.008052 -0.000009   \n",
            "NOEMP      0.140887  0.642096  0.515554  0.058015  0.084255  0.007206   \n",
            "SEOTR     -0.002265  0.252694  0.228952  0.015048  0.024116 -0.004885   \n",
            "VETYN      0.674844  0.476475  0.438680  0.051530  0.075391  0.054585   \n",
            "WKSWORK    0.206181  0.754472  0.655613  0.083549  0.100762  0.013823   \n",
            "AHRSPAY    0.036938  0.165980  0.194498 -0.001082  0.010993 -0.005731   \n",
            "year       0.004413  0.003430 -0.003140  0.005243  0.000096  0.001913   \n",
            "\n",
            "           MARSUPWRT     NOEMP     SEOTR     VETYN   WKSWORK   AHRSPAY  \\\n",
            "AAGE       -0.001611  0.140887 -0.002265  0.674844  0.206181  0.036938   \n",
            "ADTINK      0.029388  0.642096  0.252694  0.476475  0.754472  0.165980   \n",
            "ADTOCC      0.027047  0.515554  0.228952  0.438680  0.655613  0.194498   \n",
            "CAPGAIN     0.002549  0.058015  0.015048  0.051530  0.083549 -0.001082   \n",
            "GAPLOSS     0.008052  0.084255  0.024116  0.075391  0.100762  0.010993   \n",
            "DIVVAL     -0.000009  0.007206 -0.004885  0.054585  0.013823 -0.005731   \n",
            "MARSUPWRT   1.000000  0.042778  0.012328  0.040507  0.029240  0.012353   \n",
            "NOEMP       0.042778  1.000000  0.240553  0.463334  0.747302  0.191543   \n",
            "SEOTR       0.012328  0.240553  1.000000  0.177448  0.265872  0.054051   \n",
            "VETYN       0.040507  0.463334  0.177448  1.000000  0.532279  0.113094   \n",
            "WKSWORK     0.029240  0.747302  0.265872  0.532279  1.000000  0.195687   \n",
            "AHRSPAY     0.012353  0.191543  0.054051  0.113094  0.195687  1.000000   \n",
            "year        0.011765  0.018774  0.007377  0.003122  0.005252  0.002283   \n",
            "\n",
            "               year  \n",
            "AAGE       0.004413  \n",
            "ADTINK     0.003430  \n",
            "ADTOCC    -0.003140  \n",
            "CAPGAIN    0.005243  \n",
            "GAPLOSS    0.000096  \n",
            "DIVVAL     0.001913  \n",
            "MARSUPWRT  0.011765  \n",
            "NOEMP      0.018774  \n",
            "SEOTR      0.007377  \n",
            "VETYN      0.003122  \n",
            "WKSWORK    0.005252  \n",
            "AHRSPAY    0.002283  \n",
            "year       1.000000  \n"
          ]
        },
        {
          "output_type": "display_data",
          "data": {
            "text/plain": [
              "<Figure size 1200x1000 with 2 Axes>"
            ],
            "image/png": "[encoded data removed]"
          },
          "metadata": {}
        }
      ],
      "source": [
        "# To calculate the correlation matrix for numerical features\n",
        "correlation_matrix = df[numerical_features].corr()\n",
        "\n",
        "# To display the correlation matrix\n",
        "print(correlation_matrix)\n",
        "\n",
        "# To plot the correlation matrix using a heatmap\n",
        "plt.figure(figsize=(12, 10))\n",
        "sns.heatmap(correlation_matrix, annot=True, cmap='coolwarm', fmt=\".2f\")\n",
        "plt.title('Correlation Matrix of Numerical Features')\n",
        "plt.show()"
      ]
    },
    {
      "cell_type": "code",
      "execution_count": null,
      "metadata": {
        "colab": {
          "base_uri": "https://localhost:8080/"
        },
        "id": "vQnUSxenEJjJ",
        "outputId": "f0931de8-25d8-4259-ac0b-cd27cf26a25a"
      },
      "outputs": [
        {
          "output_type": "stream",
          "name": "stdout",
          "text": [
            "GRINST  contains  0.3548  % of missing values\n",
            "MIGMTR1  contains  49.9672  % of missing values\n",
            "MIGMTR3  contains  49.9672  % of missing values\n",
            "MIGMTR4  contains  49.9672  % of missing values\n",
            "MIGSUN  contains  49.9672  % of missing values\n",
            "PEFNTVTY  contains  3.3645  % of missing values\n",
            "PEMNTVTY  contains  3.0668  % of missing values\n",
            "PENATVTY  contains  1.7006  % of missing values\n"
          ]
        }
      ],
      "source": [
        "import numpy as np\n",
        "#We will check the % of NAN values present in each features.\n",
        "#1. We get the list of features which has missing values.\n",
        "features_with_na = [features for features in df.columns if df[features].isnull().sum()>1]\n",
        "#2. Print the feature name and % of missing values.\n",
        "for feature in features_with_na:\n",
        "    print(feature, ' contains ', np.round(df[feature].isnull().mean()*100,4), ' % of missing values')"
      ]
    },
    {
      "cell_type": "code",
      "execution_count": null,
      "metadata": {
        "id": "n7gARtMv86ic"
      },
      "outputs": [],
      "source": [
        "# Filling missing values with 0\n",
        "df.fillna(0, inplace=True)"
      ]
    },
    {
      "cell_type": "code",
      "execution_count": null,
      "metadata": {
        "colab": {
          "base_uri": "https://localhost:8080/"
        },
        "id": "VaZybDpr-DKZ",
        "outputId": "ebd1b12e-68d7-4e78-9032-14d4e01343cf"
      },
      "outputs": [
        {
          "output_type": "stream",
          "name": "stdout",
          "text": [
            "   AAGE  ACLSWKR  ADTINK  ADTOCC  AHGA  AHSCOL  AMARITL  AMJIND  AMJOCC  \\\n",
            "0    73        1       0       0     1       1        1       1       1   \n",
            "1    58        2       4      34     2       1        2       2       2   \n",
            "2    18        1       0       0     3       2        3       1       1   \n",
            "3     9        1       0       0     4       1        3       1       1   \n",
            "4    10        1       0       0     4       1        3       1       1   \n",
            "\n",
            "   ARACE  ...  PEMNTVTY  PENATVTY  PRCITSHP  SEOTR  VETQVA  VETYN  WKSWORK  \\\n",
            "0      1  ...         1         1         1      0       1      2        0   \n",
            "1      1  ...         1         1         1      0       1      2       52   \n",
            "2      2  ...         2         2         2      0       1      2        0   \n",
            "3      1  ...         1         1         1      0       1      0        0   \n",
            "4      1  ...         1         1         1      0       1      0        0   \n",
            "\n",
            "   AHRSPAY  year  income  \n",
            "0        0    95  -50000  \n",
            "1        0    94  -50000  \n",
            "2        0    95  -50000  \n",
            "3        0    94  -50000  \n",
            "4        0    94  -50000  \n",
            "\n",
            "[5 rows x 42 columns]\n"
          ]
        }
      ],
      "source": [
        "# To create a copy of the DataFrame to avoid modifying the original\n",
        "new_df = df.copy()\n",
        "\n",
        "# To iterate through categorical columns, excluding 'AAGE' and 'income'\n",
        "for column in categorical_features:\n",
        "    if column not in ['AAGE','income']:\n",
        "        # Creating a mapping from unique values to integer labels\n",
        "        unique_values = new_df[column].unique()\n",
        "        mapping = {value: i + 1 for i, value in enumerate(unique_values)}\n",
        "\n",
        "        # Applying the mapping to the column in the new DataFrame\n",
        "        new_df[column] = new_df[column].map(mapping)\n",
        "\n",
        "       # Displaying the first few rows of the new DataFrame\n",
        "print(new_df.head())\n"
      ]
    },
    {
      "cell_type": "code",
      "execution_count": null,
      "metadata": {
        "colab": {
          "base_uri": "https://localhost:8080/"
        },
        "id": "WOpnSNg1Az9u",
        "outputId": "344ac1af-066a-4043-fb09-cb891d51fcc0"
      },
      "outputs": [
        {
          "output_type": "stream",
          "name": "stdout",
          "text": [
            "Mapping for column 'ACLSWKR': {np.int64(1): 0, np.int64(2): 1, np.int64(3): 2, np.int64(4): 3, np.int64(5): 4, np.int64(6): 5, np.int64(7): 6, np.int64(8): 7, np.int64(9): 8}\n",
            "Mapping for column 'AHGA': {np.int64(1): 0, np.int64(2): 1, np.int64(3): 2, np.int64(4): 3, np.int64(5): 4, np.int64(6): 5, np.int64(7): 6, np.int64(8): 7, np.int64(9): 8, np.int64(10): 9, np.int64(11): 10, np.int64(12): 11, np.int64(13): 12, np.int64(14): 13, np.int64(15): 14, np.int64(16): 15, np.int64(17): 16}\n",
            "Mapping for column 'AHSCOL': {np.int64(1): 0, np.int64(2): 1, np.int64(3): 2}\n",
            "Mapping for column 'AMARITL': {np.int64(1): 0, np.int64(2): 1, np.int64(3): 2, np.int64(4): 3, np.int64(5): 4, np.int64(6): 5, np.int64(7): 6}\n",
            "Mapping for column 'AMJIND': {np.int64(1): 0, np.int64(2): 1, np.int64(3): 2, np.int64(4): 3, np.int64(5): 4, np.int64(6): 5, np.int64(7): 6, np.int64(8): 7, np.int64(9): 8, np.int64(10): 9, np.int64(11): 10, np.int64(12): 11, np.int64(13): 12, np.int64(14): 13, np.int64(15): 14, np.int64(16): 15, np.int64(17): 16, np.int64(18): 17, np.int64(19): 18, np.int64(20): 19, np.int64(21): 20, np.int64(22): 21, np.int64(23): 22, np.int64(24): 23}\n",
            "Mapping for column 'AMJOCC': {np.int64(1): 0, np.int64(2): 1, np.int64(3): 2, np.int64(4): 3, np.int64(5): 4, np.int64(6): 5, np.int64(7): 6, np.int64(8): 7, np.int64(9): 8, np.int64(10): 9, np.int64(11): 10, np.int64(12): 11, np.int64(13): 12, np.int64(14): 13, np.int64(15): 14}\n",
            "Mapping for column 'ARACE': {np.int64(1): 0, np.int64(2): 1, np.int64(3): 2, np.int64(4): 3, np.int64(5): 4}\n",
            "Mapping for column 'AREORGN': {np.int64(1): 0, np.int64(2): 1, np.int64(3): 2, np.int64(4): 3, np.int64(5): 4, np.int64(6): 5, np.int64(7): 6, np.int64(8): 7, np.int64(9): 8, np.int64(10): 9}\n",
            "Mapping for column 'ASEX': {np.int64(1): 0, np.int64(2): 1}\n",
            "Mapping for column 'AUNMEM': {np.int64(1): 0, np.int64(2): 1, np.int64(3): 2}\n",
            "Mapping for column 'AUNTYPE': {np.int64(1): 0, np.int64(2): 1, np.int64(3): 2, np.int64(4): 3, np.int64(5): 4, np.int64(6): 5}\n",
            "Mapping for column 'AWKSTAT': {np.int64(1): 0, np.int64(2): 1, np.int64(3): 2, np.int64(4): 3, np.int64(5): 4, np.int64(6): 5, np.int64(7): 6, np.int64(8): 7}\n",
            "Mapping for column 'FILESTAT': {np.int64(1): 0, np.int64(2): 1, np.int64(3): 2, np.int64(4): 3, np.int64(5): 4, np.int64(6): 5}\n",
            "Mapping for column 'GRINREG': {np.int64(1): 0, np.int64(2): 1, np.int64(3): 2, np.int64(4): 3, np.int64(5): 4, np.int64(6): 5}\n",
            "Mapping for column 'GRINST': {np.int64(1): 0, np.int64(2): 1, np.int64(3): 2, np.int64(4): 3, np.int64(5): 4, np.int64(6): 5, np.int64(7): 6, np.int64(8): 7, np.int64(9): 8, np.int64(10): 9, np.int64(11): 10, np.int64(12): 11, np.int64(13): 12, np.int64(14): 13, np.int64(15): 14, np.int64(16): 15, np.int64(17): 16, np.int64(18): 17, np.int64(19): 18, np.int64(20): 19, np.int64(21): 20, np.int64(22): 21, np.int64(23): 22, np.int64(24): 23, np.int64(25): 24, np.int64(26): 25, np.int64(27): 26, np.int64(28): 27, np.int64(29): 28, np.int64(30): 29, np.int64(31): 30, np.int64(32): 31, np.int64(33): 32, np.int64(34): 33, np.int64(35): 34, np.int64(36): 35, np.int64(37): 36, np.int64(38): 37, np.int64(39): 38, np.int64(40): 39, np.int64(41): 40, np.int64(42): 41, np.int64(43): 42, np.int64(44): 43, np.int64(45): 44, np.int64(46): 45, np.int64(47): 46, np.int64(48): 47, np.int64(49): 48, np.int64(50): 49, np.int64(51): 50}\n",
            "Mapping for column 'HHDFMX': {np.int64(1): 0, np.int64(2): 1, np.int64(3): 2, np.int64(4): 3, np.int64(5): 4, np.int64(6): 5, np.int64(7): 6, np.int64(8): 7, np.int64(9): 8, np.int64(10): 9, np.int64(11): 10, np.int64(12): 11, np.int64(13): 12, np.int64(14): 13, np.int64(15): 14, np.int64(16): 15, np.int64(17): 16, np.int64(18): 17, np.int64(19): 18, np.int64(20): 19, np.int64(21): 20, np.int64(22): 21, np.int64(23): 22, np.int64(24): 23, np.int64(25): 24, np.int64(26): 25, np.int64(27): 26, np.int64(28): 27, np.int64(29): 28, np.int64(30): 29, np.int64(31): 30, np.int64(32): 31, np.int64(33): 32, np.int64(34): 33, np.int64(35): 34, np.int64(36): 35, np.int64(37): 36, np.int64(38): 37}\n",
            "Mapping for column 'HHDREL': {np.int64(1): 0, np.int64(2): 1, np.int64(3): 2, np.int64(4): 3, np.int64(5): 4, np.int64(6): 5, np.int64(7): 6, np.int64(8): 7}\n",
            "Mapping for column 'MIGMTR1': {np.int64(1): 0, np.int64(2): 1, np.int64(3): 2, np.int64(4): 3, np.int64(5): 4, np.int64(6): 5, np.int64(7): 6, np.int64(8): 7, np.int64(9): 8, np.int64(10): 9}\n",
            "Mapping for column 'MIGMTR3': {np.int64(1): 0, np.int64(2): 1, np.int64(3): 2, np.int64(4): 3, np.int64(5): 4, np.int64(6): 5, np.int64(7): 6, np.int64(8): 7, np.int64(9): 8}\n",
            "Mapping for column 'MIGMTR4': {np.int64(1): 0, np.int64(2): 1, np.int64(3): 2, np.int64(4): 3, np.int64(5): 4, np.int64(6): 5, np.int64(7): 6, np.int64(8): 7, np.int64(9): 8, np.int64(10): 9}\n",
            "Mapping for column 'MIGSAME': {np.int64(1): 0, np.int64(2): 1, np.int64(3): 2}\n",
            "Mapping for column 'MIGSUN': {np.int64(1): 0, np.int64(2): 1, np.int64(3): 2, np.int64(4): 3}\n",
            "Mapping for column 'PARENT': {np.int64(1): 0, np.int64(2): 1, np.int64(3): 2, np.int64(4): 3, np.int64(5): 4}\n",
            "Mapping for column 'PEFNTVTY': {np.int64(1): 0, np.int64(2): 1, np.int64(3): 2, np.int64(4): 3, np.int64(5): 4, np.int64(6): 5, np.int64(7): 6, np.int64(8): 7, np.int64(9): 8, np.int64(10): 9, np.int64(11): 10, np.int64(12): 11, np.int64(13): 12, np.int64(14): 13, np.int64(15): 14, np.int64(16): 15, np.int64(17): 16, np.int64(18): 17, np.int64(19): 18, np.int64(20): 19, np.int64(21): 20, np.int64(22): 21, np.int64(23): 22, np.int64(24): 23, np.int64(25): 24, np.int64(26): 25, np.int64(27): 26, np.int64(28): 27, np.int64(29): 28, np.int64(30): 29, np.int64(31): 30, np.int64(32): 31, np.int64(33): 32, np.int64(34): 33, np.int64(35): 34, np.int64(36): 35, np.int64(37): 36, np.int64(38): 37, np.int64(39): 38, np.int64(40): 39, np.int64(41): 40, np.int64(42): 41, np.int64(43): 42}\n",
            "Mapping for column 'PEMNTVTY': {np.int64(1): 0, np.int64(2): 1, np.int64(3): 2, np.int64(4): 3, np.int64(5): 4, np.int64(6): 5, np.int64(7): 6, np.int64(8): 7, np.int64(9): 8, np.int64(10): 9, np.int64(11): 10, np.int64(12): 11, np.int64(13): 12, np.int64(14): 13, np.int64(15): 14, np.int64(16): 15, np.int64(17): 16, np.int64(18): 17, np.int64(19): 18, np.int64(20): 19, np.int64(21): 20, np.int64(22): 21, np.int64(23): 22, np.int64(24): 23, np.int64(25): 24, np.int64(26): 25, np.int64(27): 26, np.int64(28): 27, np.int64(29): 28, np.int64(30): 29, np.int64(31): 30, np.int64(32): 31, np.int64(33): 32, np.int64(34): 33, np.int64(35): 34, np.int64(36): 35, np.int64(37): 36, np.int64(38): 37, np.int64(39): 38, np.int64(40): 39, np.int64(41): 40, np.int64(42): 41, np.int64(43): 42}\n",
            "Mapping for column 'PENATVTY': {np.int64(1): 0, np.int64(2): 1, np.int64(3): 2, np.int64(4): 3, np.int64(5): 4, np.int64(6): 5, np.int64(7): 6, np.int64(8): 7, np.int64(9): 8, np.int64(10): 9, np.int64(11): 10, np.int64(12): 11, np.int64(13): 12, np.int64(14): 13, np.int64(15): 14, np.int64(16): 15, np.int64(17): 16, np.int64(18): 17, np.int64(19): 18, np.int64(20): 19, np.int64(21): 20, np.int64(22): 21, np.int64(23): 22, np.int64(24): 23, np.int64(25): 24, np.int64(26): 25, np.int64(27): 26, np.int64(28): 27, np.int64(29): 28, np.int64(30): 29, np.int64(31): 30, np.int64(32): 31, np.int64(33): 32, np.int64(34): 33, np.int64(35): 34, np.int64(36): 35, np.int64(37): 36, np.int64(38): 37, np.int64(39): 38, np.int64(40): 39, np.int64(41): 40, np.int64(42): 41, np.int64(43): 42}\n",
            "Mapping for column 'PRCITSHP': {np.int64(1): 0, np.int64(2): 1, np.int64(3): 2, np.int64(4): 3, np.int64(5): 4}\n",
            "Mapping for column 'VETQVA': {np.int64(1): 0, np.int64(2): 1, np.int64(3): 2}\n",
            "Mapping for column 'income': {'-50000': 0, ' 50000+.': 1}\n",
            "   AAGE  ACLSWKR  ADTINK  ADTOCC  AHGA  AHSCOL  AMARITL  AMJIND  AMJOCC  \\\n",
            "0    73        0       0       0     0       0        0       0       0   \n",
            "1    58        1       4      34     1       0        1       1       1   \n",
            "2    18        0       0       0     2       1        2       0       0   \n",
            "3     9        0       0       0     3       0        2       0       0   \n",
            "4    10        0       0       0     3       0        2       0       0   \n",
            "\n",
            "   ARACE  ...  PEMNTVTY  PENATVTY  PRCITSHP  SEOTR  VETQVA  VETYN  WKSWORK  \\\n",
            "0      0  ...         0         0         0      0       0      2        0   \n",
            "1      0  ...         0         0         0      0       0      2       52   \n",
            "2      1  ...         1         1         1      0       0      2        0   \n",
            "3      0  ...         0         0         0      0       0      0        0   \n",
            "4      0  ...         0         0         0      0       0      0        0   \n",
            "\n",
            "   AHRSPAY  year  income  \n",
            "0        0    95       0  \n",
            "1        0    94       0  \n",
            "2        0    95       0  \n",
            "3        0    94       0  \n",
            "4        0    94       0  \n",
            "\n",
            "[5 rows x 42 columns]\n"
          ]
        }
      ],
      "source": [
        "# Assuming 'df' and 'categorical_features' are already defined from the previous code.\n",
        "\n",
        "# To iterate through categorical columns, excluding 'AAGE' and 'income'\n",
        "for column in categorical_features:\n",
        "     if column not in ['AAGE']:\n",
        "       # Creating a mapping from unique values to integer labels\n",
        "        unique_values = new_df[column].unique()\n",
        "        mapping = {value: i for i, value in enumerate(unique_values)}\n",
        "\n",
        "        # Applying the mapping to the column in the new DataFrame\n",
        "        new_df[column] = new_df[column].map(mapping)\n",
        "\n",
        "        #To print the mapping for each column\n",
        "        print(f\"Mapping for column '{column}': {mapping}\")\n",
        "\n",
        "# Displaying the first few rows of the new DataFrame\n",
        "print(new_df.head())\n"
      ]
    },
    {
      "cell_type": "code",
      "execution_count": null,
      "metadata": {
        "colab": {
          "base_uri": "https://localhost:8080/",
          "height": 195
        },
        "id": "wLPq6u0ocqPY",
        "outputId": "ce1154c1-c57f-4d31-a374-bf0aebf1e32e"
      },
      "outputs": [
        {
          "output_type": "stream",
          "name": "stdout",
          "text": [
            "Frequency of 'target' column in imbalanced_data:\n"
          ]
        },
        {
          "output_type": "execute_result",
          "data": {
            "text/plain": [
              "income\n",
              "0    187141\n",
              "1     12382\n",
              "Name: count, dtype: int64"
            ],
            "text/html": [
              "<div>\n",
              "<style scoped>\n",
              "    .dataframe tbody tr th:only-of-type {\n",
              "        vertical-align: middle;\n",
              "    }\n",
              "\n",
              "    .dataframe tbody tr th {\n",
              "        vertical-align: top;\n",
              "    }\n",
              "\n",
              "    .dataframe thead th {\n",
              "        text-align: right;\n",
              "    }\n",
              "</style>\n",
              "<table border=\"1\" class=\"dataframe\">\n",
              "  <thead>\n",
              "    <tr style=\"text-align: right;\">\n",
              "      <th></th>\n",
              "      <th>count</th>\n",
              "    </tr>\n",
              "    <tr>\n",
              "      <th>income</th>\n",
              "      <th></th>\n",
              "    </tr>\n",
              "  </thead>\n",
              "  <tbody>\n",
              "    <tr>\n",
              "      <th>0</th>\n",
              "      <td>187141</td>\n",
              "    </tr>\n",
              "    <tr>\n",
              "      <th>1</th>\n",
              "      <td>12382</td>\n",
              "    </tr>\n",
              "  </tbody>\n",
              "</table>\n",
              "</div><br><label><b>dtype:</b> int64</label>"
            ]
          },
          "metadata": {},
          "execution_count": 15
        }
      ],
      "source": [
        "# To check the frequency of the 'target' column in the balanced dataset\n",
        "target_frequency = new_df['income'].value_counts()\n",
        "\n",
        "# To print the frequency\n",
        "print(\"Frequency of 'target' column in imbalanced_data:\")\n",
        "target_frequency\n"
      ]
    },
    {
      "cell_type": "markdown",
      "source": [
        "## **Implementation of Machine Learning Model on imbalanced data**"
      ],
      "metadata": {
        "id": "5BpQr0eOcgpP"
      }
    },
    {
      "cell_type": "markdown",
      "source": [
        "### **Implementing the Logistic Regression**"
      ],
      "metadata": {
        "id": "tLaRwvuzc4hm"
      }
    },
    {
      "cell_type": "code",
      "source": [
        "from sklearn.preprocessing import StandardScaler\n",
        "from sklearn.model_selection import train_test_split\n",
        "from sklearn.linear_model import LogisticRegression\n",
        "from sklearn.metrics import accuracy_score\n",
        "\n",
        "#Splitting the data into dependent and independent features\n",
        "X = new_df.drop('income', axis=1)\n",
        "y = new_df['income']\n",
        "\n",
        "# Split data into training and testing sets\n",
        "X_train, X_test, y_train, y_test = train_test_split(X, y, test_size=0.2, random_state=42)\n",
        "\n",
        "# Scale the data\n",
        "scaler = StandardScaler()\n",
        "X_train_scaled = scaler.fit_transform(X_train)\n",
        "X_test_scaled = scaler.transform(X_test)\n",
        "\n",
        "# Initialize and train the logistic regression model\n",
        "model = LogisticRegression(max_iter=5000)  # Keep high max_iter\n",
        "model.fit(X_train_scaled, y_train)  # Train on scaled data\n",
        "\n",
        "# Make predictions on the test set\n",
        "train_pred = model.predict(X_train_scaled)\n",
        "test_pred = model.predict(X_test_scaled)\n",
        "\n",
        "# Calculate accuracy for training data\n",
        "train_accuracy = accuracy_score(y_train, train_pred)\n",
        "print(f\"Training Accuracy: {train_accuracy * 100:.2f}%\")\n",
        "\n",
        "# Calculate accuracy for testing data\n",
        "test_accuracy = accuracy_score(y_test, test_pred)\n",
        "print(f\"Testing Accuracy: {test_accuracy * 100:.2f}%\")"
      ],
      "metadata": {
        "colab": {
          "base_uri": "https://localhost:8080/"
        },
        "id": "sGxRlVsuc1Z-",
        "outputId": "7dc590e6-5029-4e00-87f4-dbf6f4a350c7"
      },
      "execution_count": null,
      "outputs": [
        {
          "output_type": "stream",
          "name": "stdout",
          "text": [
            "Training Accuracy: 94.79%\n",
            "Testing Accuracy: 95.12%\n"
          ]
        }
      ]
    },
    {
      "cell_type": "code",
      "source": [
        "from sklearn.metrics import accuracy_score,classification_report\n",
        "print(classification_report(test_pred,y_test))"
      ],
      "metadata": {
        "colab": {
          "base_uri": "https://localhost:8080/"
        },
        "id": "iJUfQ32Ph8PS",
        "outputId": "9c0c818c-aa5a-40c4-9e1b-815e8029d631"
      },
      "execution_count": null,
      "outputs": [
        {
          "output_type": "stream",
          "name": "stdout",
          "text": [
            "              precision    recall  f1-score   support\n",
            "\n",
            "           0       0.99      0.96      0.97     38990\n",
            "           1       0.28      0.73      0.41       915\n",
            "\n",
            "    accuracy                           0.95     39905\n",
            "   macro avg       0.64      0.84      0.69     39905\n",
            "weighted avg       0.98      0.95      0.96     39905\n",
            "\n"
          ]
        }
      ]
    },
    {
      "cell_type": "markdown",
      "source": [
        "### **Implementing Random Forest Classifier**"
      ],
      "metadata": {
        "id": "7GBBbyoXd_SJ"
      }
    },
    {
      "cell_type": "code",
      "source": [
        "from sklearn.ensemble import RandomForestClassifier\n",
        "\n",
        "# Initialize and train the Random Forest Classifier\n",
        "rf_model = RandomForestClassifier(n_estimators=100, max_depth=10, random_state=42)  # You can adjust n_estimators\n",
        "rf_model.fit(X_train_scaled, y_train)\n",
        "\n",
        "# Make predictions\n",
        "rf_train_pred = rf_model.predict(X_train_scaled)\n",
        "rf_test_pred = rf_model.predict(X_test_scaled)\n",
        "\n",
        "# Evaluate the model\n",
        "rf_train_accuracy = accuracy_score(y_train, rf_train_pred)\n",
        "rf_test_accuracy = accuracy_score(y_test, rf_test_pred)\n",
        "\n",
        "print(f\"Random Forest Training Accuracy: {rf_train_accuracy * 100:.2f}%\")\n",
        "print(f\"Random Forest Testing Accuracy: {rf_test_accuracy * 100:.2f}%\")\n"
      ],
      "metadata": {
        "colab": {
          "base_uri": "https://localhost:8080/"
        },
        "id": "7fhzuGAQeExx",
        "outputId": "1e07f2eb-816f-41d2-a36a-5f0679a06ca8"
      },
      "execution_count": null,
      "outputs": [
        {
          "output_type": "stream",
          "name": "stdout",
          "text": [
            "Random Forest Training Accuracy: 95.36%\n",
            "Random Forest Testing Accuracy: 95.35%\n"
          ]
        }
      ]
    },
    {
      "cell_type": "code",
      "source": [
        "from sklearn.metrics import accuracy_score,classification_report\n",
        "print(classification_report(rf_test_pred,y_test))"
      ],
      "metadata": {
        "colab": {
          "base_uri": "https://localhost:8080/"
        },
        "id": "rrxZC-I0_4FR",
        "outputId": "43b6bb08-1d83-4b22-8257-fe7692708c7a"
      },
      "execution_count": null,
      "outputs": [
        {
          "output_type": "stream",
          "name": "stdout",
          "text": [
            "              precision    recall  f1-score   support\n",
            "\n",
            "           0       1.00      0.96      0.98     39099\n",
            "           1       0.28      0.81      0.41       806\n",
            "\n",
            "    accuracy                           0.95     39905\n",
            "   macro avg       0.64      0.89      0.69     39905\n",
            "weighted avg       0.98      0.95      0.96     39905\n",
            "\n"
          ]
        }
      ]
    },
    {
      "cell_type": "markdown",
      "source": [
        "### **Implementing Decision Tree Classifier**"
      ],
      "metadata": {
        "id": "tqrmHHiFhYla"
      }
    },
    {
      "cell_type": "code",
      "source": [
        "from sklearn.tree import DecisionTreeClassifier\n",
        "\n",
        "# Initialize and train the Decision Tree Classifier\n",
        "dt_model = DecisionTreeClassifier(\n",
        "    max_depth=10,         # Limit depth\n",
        "    min_samples_split=10, # Minimum samples required to split\n",
        "    min_samples_leaf=5,   # Minimum samples required at a leaf node\n",
        "    random_state=42)  # You can adjust hyperparameters\n",
        "dt_model.fit(X_train, y_train)  # You can adjust hyperparameters\n",
        "dt_model.fit(X_train_scaled, y_train)  # You can adjust hyperparameters\n",
        "dt_model.fit(X_train_scaled, y_train)\n",
        "\n",
        "# Make predictions\n",
        "dt_train_pred = dt_model.predict(X_train_scaled)\n",
        "dt_test_pred = dt_model.predict(X_test_scaled)\n",
        "\n",
        "# Evaluate the model\n",
        "dt_train_accuracy = accuracy_score(y_train, dt_train_pred)\n",
        "dt_test_accuracy = accuracy_score(y_test, dt_test_pred)\n",
        "\n",
        "print(f\"Decision Tree Training Accuracy: {dt_train_accuracy * 100:.2f}%\")\n",
        "print(f\"Decision Tree Testing Accuracy: {dt_test_accuracy * 100:.2f}%\")"
      ],
      "metadata": {
        "colab": {
          "base_uri": "https://localhost:8080/"
        },
        "id": "Tke84pFAfVOH",
        "outputId": "fd81aef3-faac-4d5d-cdae-308e17d79a3b"
      },
      "execution_count": null,
      "outputs": [
        {
          "output_type": "stream",
          "name": "stdout",
          "text": [
            "Decision Tree Training Accuracy: 95.37%\n",
            "Decision Tree Testing Accuracy: 95.24%\n"
          ]
        }
      ]
    },
    {
      "cell_type": "code",
      "source": [
        "from sklearn.metrics import accuracy_score,classification_report\n",
        "print(classification_report(dt_test_pred,y_test))"
      ],
      "metadata": {
        "colab": {
          "base_uri": "https://localhost:8080/"
        },
        "id": "or7a-txKALcb",
        "outputId": "dc0348bb-df4a-4d3c-dec0-72eab0598b3b"
      },
      "execution_count": null,
      "outputs": [
        {
          "output_type": "stream",
          "name": "stdout",
          "text": [
            "              precision    recall  f1-score   support\n",
            "\n",
            "           0       0.99      0.96      0.98     38899\n",
            "           1       0.31      0.73      0.44      1006\n",
            "\n",
            "    accuracy                           0.95     39905\n",
            "   macro avg       0.65      0.84      0.71     39905\n",
            "weighted avg       0.98      0.95      0.96     39905\n",
            "\n"
          ]
        }
      ]
    },
    {
      "cell_type": "markdown",
      "source": [
        "# **Feature Engineering**"
      ],
      "metadata": {
        "id": "lTr9r-XDhfd5"
      }
    },
    {
      "cell_type": "code",
      "source": [
        "# Feature selection by removing multicollinearity\n",
        "# Identify and remove highly correlated features\n",
        "#corr_matrix = new_df.corr().abs()\n",
        "##upper = corr_matrix.where(np.triu(np.ones(corr_matrix.shape), k=1).astype(bool)) #creates the upper-traingular matrix by removing the values below the diagonal to avoid redundant checks\n",
        "#to_drop = [column for column in upper.columns if any(upper[column] > thresh)] #if any column is greater than the threshold its added in to_drop list\n",
        "#new_df = new_df.drop(to_drop, axis=1)"
      ],
      "metadata": {
        "id": "expmgzHnvFcw"
      },
      "execution_count": null,
      "outputs": []
    },
    {
      "cell_type": "code",
      "source": [
        "#new_df.columns"
      ],
      "metadata": {
        "id": "roHpR5D-vPC3"
      },
      "execution_count": null,
      "outputs": []
    },
    {
      "cell_type": "code",
      "source": [
        "from sklearn.feature_selection import SelectKBest, chi2\n",
        "\n",
        "X = new_df.drop('income', axis=1)\n",
        "y = new_df['income']\n",
        "\n",
        "selector = SelectKBest(score_func=chi2, k=20)  # Select top 20 features\n",
        "X_selected = selector.fit_transform(X, y)\n",
        "\n",
        "selected_features = X.columns[selector.get_support()]\n",
        "print(\"Top 20 features selected by chi2:\\n\", selected_features)\n",
        "\n",
        "\n",
        "from sklearn.feature_selection import SelectKBest, chi2\n",
        "\n",
        "selector = SelectKBest(score_func=chi2, k=20)\n",
        "selector.fit(X, y)\n",
        "\n",
        "chi_scores = pd.Series(selector.scores_, index=X.columns)\n",
        "top_chi = chi_scores.sort_values(ascending=False).head(20)"
      ],
      "metadata": {
        "colab": {
          "base_uri": "https://localhost:8080/"
        },
        "id": "KO69jOLKb-hV",
        "outputId": "601c6090-ab83-4b08-dfff-271e5c661152"
      },
      "execution_count": null,
      "outputs": [
        {
          "output_type": "stream",
          "name": "stdout",
          "text": [
            "Top 20 features selected by chi2:\n",
            " Index(['AAGE', 'ACLSWKR', 'ADTINK', 'AHGA', 'AMJIND', 'AMJOCC', 'AREORGN',\n",
            "       'ASEX', 'CAPGAIN', 'GAPLOSS', 'DIVVAL', 'FILESTAT', 'GRINST', 'HHDFMX',\n",
            "       'HHDREL', 'MARSUPWRT', 'NOEMP', 'PARENT', 'WKSWORK', 'AHRSPAY'],\n",
            "      dtype='object')\n"
          ]
        }
      ]
    },
    {
      "cell_type": "code",
      "execution_count": null,
      "metadata": {
        "colab": {
          "base_uri": "https://localhost:8080/",
          "height": 105
        },
        "id": "IRTx5cVvoKLY",
        "outputId": "dbd61e8f-03fe-47e2-d120-2a235ade20a0"
      },
      "outputs": [
        {
          "output_type": "execute_result",
          "data": {
            "text/plain": [
              "'import pandas as pd\\n\\n# Assuming your DataFrame is named `balanced_data`\\n# Replace values in the \\'income\\' column\\nnew_df[\\'income\\'] = new_df[\\'income\\'].map({\\'-50000\\': 0, \\'50000+\\': 1})\\n\\n# Check the updated frequency of the \\'income\\' column\\nprint(\"Updated Frequency of \\'income\\' column:\")\\nprint(new_df[\\'income\\'].value_counts())\\n\\n# Display the first few rows to show the new column\\n#print(new_df.head())\\n# Check the frequency of the \\'target\\' column in the balanced dataset\\ntarget_frequency = new_df[\\'income\\'].value_counts()\\n\\n# Print the frequency\\nprint(\"Frequency of \\'target\\' column in balanced_data:\")\\ntarget_frequency\\n'"
            ],
            "application/vnd.google.colaboratory.intrinsic+json": {
              "type": "string"
            }
          },
          "metadata": {},
          "execution_count": 108
        }
      ],
      "source": [
        "'''import pandas as pd\n",
        "\n",
        "# Assuming your DataFrame is named `balanced_data`\n",
        "# Replace values in the 'income' column\n",
        "new_df['income'] = new_df['income'].map({'-50000': 0, '50000+': 1})\n",
        "\n",
        "# Check the updated frequency of the 'income' column\n",
        "print(\"Updated Frequency of 'income' column:\")\n",
        "print(new_df['income'].value_counts())\n",
        "\n",
        "# Display the first few rows to show the new column\n",
        "#print(new_df.head())\n",
        "# Check the frequency of the 'target' column in the balanced dataset\n",
        "target_frequency = new_df['income'].value_counts()\n",
        "\n",
        "# Print the frequency\n",
        "print(\"Frequency of 'target' column in balanced_data:\")\n",
        "target_frequency\n",
        "'''"
      ]
    },
    {
      "cell_type": "code",
      "execution_count": null,
      "metadata": {
        "id": "K7Y9J-qTQoGx"
      },
      "outputs": [],
      "source": [
        "# removed it was try from deepseek\n",
        "# import pandas as pd\n",
        "# import numpy as np\n",
        "# from sklearn.feature_selection import SelectKBest, f_classif\n",
        "# from sklearn.model_selection import train_test_split\n",
        "# from sklearn.ensemble import RandomForestClassifier\n",
        "# from sklearn.metrics import accuracy_score, classification_report, confusion_matrix\n",
        "# from sklearn.preprocessing import LabelEncoder\n",
        "\n",
        "# # Load your dataset (replace 'your_dataset.csv' with your actual file)\n",
        "# data = new_df\n",
        "\n",
        "# # Check the first few rows of the dataset\n",
        "# print(data.head())\n",
        "\n",
        "# # Separate features (X) and target variable (y)\n",
        "# X = data.drop('income', axis=1)  # Features (all columns except 'income')\n",
        "# y = data['income']  # Target variable\n",
        "\n",
        "# # Encode categorical variables (if any)\n",
        "# categorical_cols = X.select_dtypes(include=['object']).columns\n",
        "# for col in categorical_cols:\n",
        "#     le = LabelEncoder()\n",
        "#     X[col] = le.fit_transform(X[col])\n",
        "\n",
        "# # Encode target variable (if it's not already encoded)\n",
        "# y = LabelEncoder().fit_transform(y)\n",
        "\n",
        "# # Check the distribution of the target variable\n",
        "# print(\"Target Variable Distribution:\\n\", y.value_counts())\n",
        "\n",
        "# # Feature Selection: Select top 10 features using f_classif\n",
        "# selector = SelectKBest(score_func=f_classif, k=10)\n",
        "# X_new = selector.fit_transform(X, y)\n",
        "\n",
        "# # Get selected feature names\n",
        "# selected_features = X.columns[selector.get_support()]\n",
        "# print(\"Selected Features:\", selected_features)\n",
        "\n",
        "# # Split data into training and testing sets (stratified)\n",
        "# X_train, X_test, y_train, y_test = train_test_split(X_new, y, test_size=0.2, random_state=42, stratify=y)\n",
        "\n",
        "# # Train a Random Forest Classifier\n",
        "# model = RandomForestClassifier(random_state=42, class_weight='balanced')\n",
        "# model.fit(X_train, y_train)\n",
        "\n",
        "# # Make predictions\n",
        "# y_pred = model.predict(X_test)\n",
        "\n",
        "# # Evaluate the model\n",
        "# print(\"Accuracy:\", accuracy_score(y_test, y_pred))\n",
        "# print(\"Classification Report:\\n\", classification_report(y_test, y_pred))\n",
        "# print(\"Confusion Matrix:\\n\", confusion_matrix(y_test, y_pred))"
      ]
    },
    {
      "cell_type": "code",
      "execution_count": null,
      "metadata": {
        "colab": {
          "base_uri": "https://localhost:8080/",
          "height": 842
        },
        "id": "MOy0GUmn8Mxi",
        "outputId": "f54531b0-1f32-4a7c-96dc-37476ebb8c10"
      },
      "outputs": [
        {
          "output_type": "stream",
          "name": "stdout",
          "text": [
            "Income Distribution by Age:\n",
            " income       0     1\n",
            "AAGE                \n",
            "0       2839.0   NaN\n",
            "1       3138.0   NaN\n",
            "2       3236.0   NaN\n",
            "3       3279.0   NaN\n",
            "4       3318.0   NaN\n",
            "...        ...   ...\n",
            "86       341.0   7.0\n",
            "87       296.0   5.0\n",
            "88       236.0   5.0\n",
            "89       192.0   3.0\n",
            "90       702.0  23.0\n",
            "\n",
            "[91 rows x 2 columns]\n"
          ]
        },
        {
          "output_type": "display_data",
          "data": {
            "text/plain": [
              "<Figure size 1200x600 with 1 Axes>"
            ],
            "image/png": "[encoded data removed]"
          },
          "metadata": {}
        }
      ],
      "source": [
        "import pandas as pd\n",
        "import matplotlib.pyplot as plt\n",
        "\n",
        "# Load your dataset (replace 'your_dataset.csv' with your actual file)\n",
        "data = new_df\n",
        "\n",
        "# Ensure the 'income' and 'AAGE' columns exist\n",
        "if 'income' not in data.columns or 'AAGE' not in data.columns:\n",
        "    raise ValueError(\"The dataset must contain 'income' and 'AAGE' columns.\")\n",
        "\n",
        "# Group data by age and income\n",
        "income_age_distribution = data.groupby(['AAGE', 'income']).size().unstack()\n",
        "\n",
        "# Print the distribution\n",
        "print(\"Income Distribution by Age:\\n\", income_age_distribution)\n",
        "\n",
        "# Plot the trend\n",
        "plt.figure(figsize=(12, 6))\n",
        "for income_level in income_age_distribution.columns:\n",
        "    plt.plot(income_age_distribution.index, income_age_distribution[income_level], label=income_level)\n",
        "\n",
        "plt.title('Income Distribution by Age')\n",
        "plt.xlabel('Age')\n",
        "plt.ylabel('Count')\n",
        "plt.legend(title='Income Level')\n",
        "plt.grid(True)\n",
        "plt.show()\n"
      ]
    },
    {
      "cell_type": "markdown",
      "source": [
        "# **Balancing out the output variable using Oversampling technique**"
      ],
      "metadata": {
        "id": "SdZE3pHKopr-"
      }
    },
    {
      "cell_type": "code",
      "execution_count": null,
      "metadata": {
        "colab": {
          "base_uri": "https://localhost:8080/"
        },
        "id": "J6muFEb7XP1k",
        "outputId": "ae58574d-507e-4285-d48e-0259108d31f2"
      },
      "outputs": [
        {
          "output_type": "stream",
          "name": "stdout",
          "text": [
            "Original Target Distribution:\n",
            "income\n",
            "0    187141\n",
            "1     12382\n",
            "Name: count, dtype: int64\n",
            "\n",
            "Balanced Target Distribution:\n",
            "income\n",
            "0    187141\n",
            "1    187141\n",
            "Name: count, dtype: int64\n"
          ]
        }
      ],
      "source": [
        "import pandas as pd\n",
        "import numpy as np\n",
        "\n",
        "# Assuming your current DataFrame is named `new_df`\n",
        "# Check the distribution of the target variable\n",
        "print(\"Original Target Distribution:\")\n",
        "print(new_df['income'].value_counts())\n",
        "\n",
        "# Separate the majority and minority classes\n",
        "majority_class = new_df[new_df['income'] == 0]  # Majority class (0s)\n",
        "minority_class = new_df[new_df['income'] == 1]  # Minority class (1s)\n",
        "\n",
        "# Calculate the number of samples to duplicate\n",
        "num_majority = majority_class.shape[0]  # Number of 0s\n",
        "num_minority = minority_class.shape[0]  # Number of 1s\n",
        "num_to_sample = num_majority - num_minority  # Number of 1s to duplicate\n",
        "\n",
        "# Ensure num_to_sample is non-negative\n",
        "if num_to_sample < 0:\n",
        "    raise ValueError(\"The minority class (1s) already has more rows than the majority class (0s).\")\n",
        "\n",
        "# Randomly sample from the minority class (with replacement)\n",
        "duplicated_minority = minority_class.sample(n=num_to_sample, replace=True, random_state=42)\n",
        "\n",
        "# Combine the majority class with the duplicated minority class\n",
        "bal_df = pd.concat([majority_class, minority_class, duplicated_minority], axis=0)\n",
        "\n",
        "# Shuffle the balanced dataset\n",
        "bal_df = bal_df.sample(frac=1, random_state=42).reset_index(drop=True)\n",
        "\n",
        "# Check the distribution of the target variable after balancing\n",
        "print(\"\\nBalanced Target Distribution:\")\n",
        "print(bal_df['income'].value_counts())\n",
        "\n",
        "# Save the balanced dataset to a new CSV file (optional)\n",
        "bal_df.to_csv('balanced_dataset.csv', index=False)\n",
        "\n",
        "# Now `bal_df` is your new DataFrame with balanced target classes"
      ]
    },
    {
      "cell_type": "code",
      "execution_count": null,
      "metadata": {
        "colab": {
          "base_uri": "https://localhost:8080/"
        },
        "id": "8pdLGQymqN7B",
        "outputId": "13d59bd6-e2e0-4957-8739-04c12b18be64"
      },
      "outputs": [
        {
          "output_type": "execute_result",
          "data": {
            "text/plain": [
              "(374282, 42)"
            ]
          },
          "metadata": {},
          "execution_count": 112
        }
      ],
      "source": [
        "bal_df.head()\n",
        "bal_df.shape"
      ]
    },
    {
      "cell_type": "code",
      "execution_count": null,
      "metadata": {
        "id": "Kf3fi2TTqhFD"
      },
      "outputs": [],
      "source": [
        "#calling iv\n",
        "#info_val = iv(df = bal_df.iloc[:,1:], target = 'income')\n",
        "#info_val_df = pd.DataFrame(info_val[0])\n",
        "#info_val_df.to_csv('inof_val.csv', index=False)\n"
      ]
    },
    {
      "cell_type": "code",
      "execution_count": null,
      "metadata": {
        "id": "12nwOKoyqwI3"
      },
      "outputs": [],
      "source": [
        "# from google.colab import files\n",
        "\n",
        "# # Save the DataFrame to a CSV file\n",
        "# info_val_df.to_csv('info_val.csv', index=False)\n",
        "\n",
        "# # Download the CSV file\n",
        "# files.download('info_val.csv')"
      ]
    },
    {
      "cell_type": "code",
      "execution_count": null,
      "metadata": {
        "id": "bhaWB-ifq02L"
      },
      "outputs": [],
      "source": [
        "# # prompt: download bal_df as spss file\n",
        "\n",
        "# # Save the DataFrame to an SPSS file\n",
        "# pyreadstat.write_sav(bal_df, \"bal_df.sav\")\n",
        "\n",
        "# # Download the SPSS file\n",
        "# files.download(\"bal_df.sav\")\n"
      ]
    },
    {
      "cell_type": "markdown",
      "metadata": {
        "id": "thz8Cl2u0yLJ"
      },
      "source": [
        "### **Implementing the Logistic Regression**"
      ]
    },
    {
      "cell_type": "code",
      "execution_count": null,
      "metadata": {
        "colab": {
          "base_uri": "https://localhost:8080/"
        },
        "id": "qmzqbN8PA0OO",
        "outputId": "94e0b420-9c47-4754-cfe9-272fa4f8fd8f"
      },
      "outputs": [
        {
          "output_type": "stream",
          "name": "stdout",
          "text": [
            "Training Accuracy: 83.34%\n",
            "Testing Accuracy: 83.35%\n"
          ]
        }
      ],
      "source": [
        "# Simple Logistic Regression Model\n",
        "from sklearn.preprocessing import StandardScaler\n",
        "from sklearn.model_selection import train_test_split\n",
        "from sklearn.linear_model import LogisticRegression\n",
        "from sklearn.metrics import accuracy_score\n",
        "\n",
        "#Splitting the data into dependent and independent features\n",
        "X = bal_df[['AAGE', 'ACLSWKR', 'ADTINK', 'AHGA', 'AMJIND', 'AMJOCC', 'AREORGN',\n",
        "       'ASEX', 'CAPGAIN', 'GAPLOSS', 'DIVVAL', 'FILESTAT', 'GRINST', 'HHDFMX',\n",
        "       'HHDREL', 'MARSUPWRT', 'NOEMP', 'PARENT', 'WKSWORK', 'AHRSPAY']]\n",
        "y = bal_df['income']\n",
        "\n",
        "# Split data into training and testing sets\n",
        "X_train, X_test, y_train, y_test = train_test_split(X, y, test_size=0.2, random_state=42)\n",
        "\n",
        "# Scale the data\n",
        "scaler = StandardScaler()\n",
        "X_train_scaled = scaler.fit_transform(X_train)\n",
        "X_test_scaled = scaler.transform(X_test)\n",
        "\n",
        "# Initialize and train the logistic regression model\n",
        "model = LogisticRegression(max_iter=5000)  # Keep high max_iter\n",
        "model.fit(X_train_scaled, y_train)  # Train on scaled data\n",
        "\n",
        "# Make predictions on the test set\n",
        "train_pred = model.predict(X_train_scaled)\n",
        "test_pred = model.predict(X_test_scaled)\n",
        "\n",
        "# Calculate accuracy for training data\n",
        "train_accuracy = accuracy_score(y_train, train_pred)\n",
        "print(f\"Training Accuracy: {train_accuracy * 100:.2f}%\")\n",
        "\n",
        "# Calculate accuracy for testing data\n",
        "test_accuracy = accuracy_score(y_test, test_pred)\n",
        "print(f\"Testing Accuracy: {test_accuracy * 100:.2f}%\")"
      ]
    },
    {
      "cell_type": "code",
      "source": [
        "from sklearn.metrics import accuracy_score,classification_report\n",
        "print(classification_report(test_pred,y_test))"
      ],
      "metadata": {
        "colab": {
          "base_uri": "https://localhost:8080/"
        },
        "id": "8kjrZdKeijBS",
        "outputId": "d9c01f29-7c46-4e45-aadf-e4b18094145c"
      },
      "execution_count": null,
      "outputs": [
        {
          "output_type": "stream",
          "name": "stdout",
          "text": [
            "              precision    recall  f1-score   support\n",
            "\n",
            "           0       0.79      0.86      0.83     34351\n",
            "           1       0.87      0.81      0.84     40506\n",
            "\n",
            "    accuracy                           0.83     74857\n",
            "   macro avg       0.83      0.84      0.83     74857\n",
            "weighted avg       0.84      0.83      0.83     74857\n",
            "\n"
          ]
        }
      ]
    },
    {
      "cell_type": "markdown",
      "source": [
        "### **Implementing Random Forest Classifier**"
      ],
      "metadata": {
        "id": "7ZRH-Vczqygn"
      }
    },
    {
      "cell_type": "code",
      "source": [
        "# Initialize and train the Random Forest Classifier\n",
        "rf_model = RandomForestClassifier(n_estimators=100, max_depth=10, random_state=42)  # You can adjust n_estimators\n",
        "rf_model.fit(X_train_scaled, y_train)\n",
        "\n",
        "# Scale the data\n",
        "#scaler = StandardScaler()\n",
        "#X_train_scaled = scaler.fit_transform(X_train)\n",
        "#X_test_scaled = scaler.transform(X_test)\n",
        "\n",
        "# Make predictions\n",
        "rf_train_pred = rf_model.predict(X_train_scaled)\n",
        "rf_test_pred = rf_model.predict(X_test_scaled)\n",
        "\n",
        "# Evaluate the model\n",
        "rf_train_accuracy = accuracy_score(y_train, rf_train_pred)\n",
        "rf_test_accuracy = accuracy_score(y_test, rf_test_pred)\n",
        "\n",
        "print(f\"Random Forest Training Accuracy: {rf_train_accuracy * 100:.2f}%\")\n",
        "print(f\"Random Forest Testing Accuracy: {rf_test_accuracy * 100:.2f}%\")"
      ],
      "metadata": {
        "colab": {
          "base_uri": "https://localhost:8080/"
        },
        "id": "79c9_q5gqqMm",
        "outputId": "1172cea4-f405-499f-f516-a0eb6e9b12b5"
      },
      "execution_count": null,
      "outputs": [
        {
          "output_type": "stream",
          "name": "stdout",
          "text": [
            "Random Forest Training Accuracy: 88.04%\n",
            "Random Forest Testing Accuracy: 88.12%\n"
          ]
        }
      ]
    },
    {
      "cell_type": "code",
      "source": [
        "from sklearn.metrics import accuracy_score,classification_report\n",
        "print(classification_report(rf_test_pred,y_test))"
      ],
      "metadata": {
        "colab": {
          "base_uri": "https://localhost:8080/"
        },
        "id": "bgPsNdXwA_dB",
        "outputId": "b21ca202-19b3-4b48-ddc0-75edea3566d2"
      },
      "execution_count": null,
      "outputs": [
        {
          "output_type": "stream",
          "name": "stdout",
          "text": [
            "              precision    recall  f1-score   support\n",
            "\n",
            "           0       0.84      0.92      0.88     34117\n",
            "           1       0.92      0.85      0.89     40740\n",
            "\n",
            "    accuracy                           0.88     74857\n",
            "   macro avg       0.88      0.88      0.88     74857\n",
            "weighted avg       0.88      0.88      0.88     74857\n",
            "\n"
          ]
        }
      ]
    },
    {
      "cell_type": "markdown",
      "source": [
        "### **Implementing Decision Tree Classifier**"
      ],
      "metadata": {
        "id": "egMNesd8rv5i"
      }
    },
    {
      "cell_type": "code",
      "source": [
        "from sklearn.tree import DecisionTreeClassifier\n",
        "\n",
        "# Initialize and train the Decision Tree Classifier\n",
        "dt_model = DecisionTreeClassifier(\n",
        "    max_depth=10,         # Limit depth\n",
        "    min_samples_split=10, # Minimum samples required to split\n",
        "    min_samples_leaf=5,   # Minimum samples required at a leaf node\n",
        "    random_state=42)  # You can adjust hyperparameters\n",
        "dt_model.fit(X_train, y_train)  # You can adjust hyperparameters\n",
        "dt_model.fit(X_train_scaled, y_train)\n",
        "\n",
        "# Make predictions\n",
        "dt_train_pred = dt_model.predict(X_train_scaled)\n",
        "dt_test_pred = dt_model.predict(X_test_scaled)\n",
        "\n",
        "# Evaluate the model\n",
        "dt_train_accuracy = accuracy_score(y_train, dt_train_pred)\n",
        "dt_test_accuracy = accuracy_score(y_test, dt_test_pred)\n",
        "\n",
        "print(f\"Decision Tree Training Accuracy: {dt_train_accuracy * 100:.2f}%\")\n",
        "print(f\"Decision Tree Testing Accuracy: {dt_test_accuracy * 100:.2f}%\")"
      ],
      "metadata": {
        "colab": {
          "base_uri": "https://localhost:8080/"
        },
        "id": "tEnq_HS_rqO5",
        "outputId": "aa882291-142b-4e26-fe33-86a87ef0e3cc"
      },
      "execution_count": null,
      "outputs": [
        {
          "output_type": "stream",
          "name": "stdout",
          "text": [
            "Decision Tree Training Accuracy: 87.59%\n",
            "Decision Tree Testing Accuracy: 87.57%\n"
          ]
        }
      ]
    },
    {
      "cell_type": "code",
      "source": [
        "from sklearn.metrics import accuracy_score,classification_report\n",
        "print(classification_report(dt_test_pred,y_test))"
      ],
      "metadata": {
        "colab": {
          "base_uri": "https://localhost:8080/"
        },
        "id": "iuqQUFPABXFT",
        "outputId": "fe25c8e2-8346-4525-cd02-78d0e82a5aa9"
      },
      "execution_count": null,
      "outputs": [
        {
          "output_type": "stream",
          "name": "stdout",
          "text": [
            "              precision    recall  f1-score   support\n",
            "\n",
            "           0       0.85      0.90      0.87     35128\n",
            "           1       0.91      0.85      0.88     39729\n",
            "\n",
            "    accuracy                           0.88     74857\n",
            "   macro avg       0.88      0.88      0.88     74857\n",
            "weighted avg       0.88      0.88      0.88     74857\n",
            "\n"
          ]
        }
      ]
    },
    {
      "cell_type": "markdown",
      "source": [
        "# **Balancing out the output variable using Undersampling technique**"
      ],
      "metadata": {
        "id": "1MP33-i_sGS_"
      }
    },
    {
      "cell_type": "code",
      "source": [
        "#Balancing out the dependent feature using undersampling technique.\n",
        "import pandas as pd\n",
        "\n",
        "# Assuming `new_df` is your original dataset\n",
        "print(\"Original Target Distribution:\")\n",
        "print(new_df['income'].value_counts())\n",
        "\n",
        "# Separate the majority and minority classes\n",
        "majority_class = new_df[new_df['income'] == 0]  # Majority class (0s)\n",
        "minority_class = new_df[new_df['income'] == 1]  # Minority class (1s)\n",
        "\n",
        "# Randomly sample from the majority class to match the minority class size\n",
        "majority_sampled = majority_class.sample(n=len(minority_class), random_state=42)\n",
        "\n",
        "# Combine the sampled majority class with the minority class\n",
        "ubal_df = pd.concat([majority_sampled, minority_class], axis=0)\n",
        "\n",
        "# Shuffle the dataset\n",
        "ubal_df = ubal_df.sample(frac=1, random_state=42).reset_index(drop=True)\n",
        "\n",
        "# Check the new distribution\n",
        "print(\"\\nBalanced Target Distribution:\")\n",
        "print(ubal_df['income'].value_counts())\n",
        "\n",
        "# Save to CSV (optional)\n",
        "ubal_df.to_csv('undersampled_dataset.csv', index=False)\n",
        "\n",
        "# Now `ubal_df` contains the balanced dataset with an equal number of 0s and 1s"
      ],
      "metadata": {
        "colab": {
          "base_uri": "https://localhost:8080/"
        },
        "id": "knZVzYRcrqKm",
        "outputId": "e3c6fdd6-2f94-4873-ec21-62aa19fe7fad"
      },
      "execution_count": null,
      "outputs": [
        {
          "output_type": "stream",
          "name": "stdout",
          "text": [
            "Original Target Distribution:\n",
            "income\n",
            "0    187141\n",
            "1     12382\n",
            "Name: count, dtype: int64\n",
            "\n",
            "Balanced Target Distribution:\n",
            "income\n",
            "1    12382\n",
            "0    12382\n",
            "Name: count, dtype: int64\n"
          ]
        }
      ]
    },
    {
      "cell_type": "markdown",
      "source": [
        "### **Implementing the Logistic Regression**"
      ],
      "metadata": {
        "id": "HNxbpehasXMr"
      }
    },
    {
      "cell_type": "code",
      "source": [
        "#Splitting the data into dependent and independent features\n",
        "X = ubal_df[['AAGE', 'ACLSWKR', 'ADTINK', 'AHGA', 'AMJIND', 'AMJOCC', 'AREORGN',\n",
        "       'ASEX', 'CAPGAIN', 'GAPLOSS', 'DIVVAL', 'FILESTAT', 'GRINST', 'HHDFMX',\n",
        "       'HHDREL', 'MARSUPWRT', 'NOEMP', 'PARENT', 'WKSWORK', 'AHRSPAY']]\n",
        "y = ubal_df['income']\n",
        "\n",
        "# Split data into training and testing sets\n",
        "X_train, X_test, y_train, y_test = train_test_split(X, y, test_size=0.2, random_state=42)\n",
        "\n",
        "# Scale the data\n",
        "scaler = StandardScaler()\n",
        "X_train_scaled = scaler.fit_transform(X_train)\n",
        "X_test_scaled = scaler.transform(X_test)\n",
        "\n",
        "# Initialize and train the logistic regression model\n",
        "model = LogisticRegression(max_iter=5000)  # Keep high max_iter\n",
        "model.fit(X_train_scaled, y_train)  # Train on scaled data\n",
        "\n",
        "# Make predictions on the test set\n",
        "train_pred = model.predict(X_train_scaled)\n",
        "test_pred = model.predict(X_test_scaled)\n",
        "\n",
        "# Calculate accuracy for training data\n",
        "train_accuracy = accuracy_score(y_train, train_pred)\n",
        "print(f\"Training Accuracy: {train_accuracy * 100:.2f}%\")\n",
        "\n",
        "# Calculate accuracy for testing data\n",
        "test_accuracy = accuracy_score(y_test, test_pred)\n",
        "print(f\"Testing Accuracy: {test_accuracy * 100:.2f}%\")"
      ],
      "metadata": {
        "colab": {
          "base_uri": "https://localhost:8080/"
        },
        "id": "1O61dbnprqGP",
        "outputId": "73ea87ef-9a24-420b-c921-3f46cfe56935"
      },
      "execution_count": null,
      "outputs": [
        {
          "output_type": "stream",
          "name": "stdout",
          "text": [
            "Training Accuracy: 83.53%\n",
            "Testing Accuracy: 82.88%\n"
          ]
        }
      ]
    },
    {
      "cell_type": "code",
      "source": [
        "from sklearn.metrics import accuracy_score,classification_report\n",
        "print(classification_report(test_pred,y_test))"
      ],
      "metadata": {
        "id": "S3nRDrceiqsg",
        "outputId": "7af68b41-fd46-42a0-ce3b-4253ca2c504e",
        "colab": {
          "base_uri": "https://localhost:8080/"
        }
      },
      "execution_count": null,
      "outputs": [
        {
          "output_type": "stream",
          "name": "stdout",
          "text": [
            "              precision    recall  f1-score   support\n",
            "\n",
            "           0       0.79      0.86      0.82      2245\n",
            "           1       0.87      0.81      0.84      2708\n",
            "\n",
            "    accuracy                           0.83      4953\n",
            "   macro avg       0.83      0.83      0.83      4953\n",
            "weighted avg       0.83      0.83      0.83      4953\n",
            "\n"
          ]
        }
      ]
    },
    {
      "cell_type": "markdown",
      "source": [
        "### **Implementing Random Forest Classifier**"
      ],
      "metadata": {
        "id": "Pm5cmMA0smqe"
      }
    },
    {
      "cell_type": "code",
      "source": [
        "# Initialize and train the Random Forest Classifier\n",
        "rf_model = RandomForestClassifier(n_estimators=100, max_depth=10, random_state=42)  # You can adjust n_estimators\n",
        "rf_model.fit(X_train_scaled, y_train)\n",
        "\n",
        "# Scale the data\n",
        "#scaler = StandardScaler()\n",
        "#X_train_scaled = scaler.fit_transform(X_train)\n",
        "#X_test_scaled = scaler.transform(X_test)\n",
        "\n",
        "# Make predictions\n",
        "rf_train_pred = rf_model.predict(X_train_scaled)\n",
        "rf_test_pred = rf_model.predict(X_test_scaled)\n",
        "\n",
        "# Evaluate the model\n",
        "rf_train_accuracy = accuracy_score(y_train, rf_train_pred)\n",
        "rf_test_accuracy = accuracy_score(y_test, rf_test_pred)\n",
        "\n",
        "print(f\"Random Forest Training Accuracy: {rf_train_accuracy * 100:.2f}%\")\n",
        "print(f\"Random Forest Testing Accuracy: {rf_test_accuracy * 100:.2f}%\")"
      ],
      "metadata": {
        "colab": {
          "base_uri": "https://localhost:8080/"
        },
        "id": "zCG0oglNrqCi",
        "outputId": "1cb767ed-b2db-4182-d74e-b4d3b9e36fe0"
      },
      "execution_count": null,
      "outputs": [
        {
          "output_type": "stream",
          "name": "stdout",
          "text": [
            "Random Forest Training Accuracy: 88.83%\n",
            "Random Forest Testing Accuracy: 85.97%\n"
          ]
        }
      ]
    },
    {
      "cell_type": "code",
      "source": [
        "from sklearn.metrics import accuracy_score,classification_report\n",
        "print(classification_report(rf_test_pred,y_test))"
      ],
      "metadata": {
        "colab": {
          "base_uri": "https://localhost:8080/"
        },
        "id": "lR5uEdBkDXSt",
        "outputId": "9fc51738-6294-4451-e91a-65edbc1c1bf7"
      },
      "execution_count": null,
      "outputs": [
        {
          "output_type": "stream",
          "name": "stdout",
          "text": [
            "              precision    recall  f1-score   support\n",
            "\n",
            "           0       0.81      0.89      0.85      2220\n",
            "           1       0.91      0.83      0.87      2733\n",
            "\n",
            "    accuracy                           0.86      4953\n",
            "   macro avg       0.86      0.86      0.86      4953\n",
            "weighted avg       0.86      0.86      0.86      4953\n",
            "\n"
          ]
        }
      ]
    },
    {
      "cell_type": "markdown",
      "source": [
        "### **Implementing Decision Tree Classifier**"
      ],
      "metadata": {
        "id": "67UP2k9HsvmY"
      }
    },
    {
      "cell_type": "code",
      "source": [
        "from sklearn.tree import DecisionTreeClassifier\n",
        "\n",
        "# Initialize and train the Decision Tree Classifier\n",
        "dt_model = DecisionTreeClassifier(\n",
        "    max_depth=10,         # Limit depth\n",
        "    min_samples_split=10, # Minimum samples required to split\n",
        "    min_samples_leaf=5,   # Minimum samples required at a leaf node\n",
        "    random_state=42)  # You can adjust hyperparameters\n",
        "dt_model.fit(X_train, y_train)  # You can adjust hyperparameters\n",
        "dt_model.fit(X_train_scaled, y_train)\n",
        "\n",
        "# Make predictions\n",
        "dt_train_pred = dt_model.predict(X_train_scaled)\n",
        "dt_test_pred = dt_model.predict(X_test_scaled)\n",
        "\n",
        "# Evaluate the model\n",
        "dt_train_accuracy = accuracy_score(y_train, dt_train_pred)\n",
        "dt_test_accuracy = accuracy_score(y_test, dt_test_pred)\n",
        "\n",
        "print(f\"Decision Tree Training Accuracy: {dt_train_accuracy * 100:.2f}%\")\n",
        "print(f\"Decision Tree Testing Accuracy: {dt_test_accuracy * 100:.2f}%\")"
      ],
      "metadata": {
        "colab": {
          "base_uri": "https://localhost:8080/"
        },
        "id": "mwH0OnWnrp-h",
        "outputId": "8da33e0e-a16c-4324-e76c-8a9f3ec05252"
      },
      "execution_count": null,
      "outputs": [
        {
          "output_type": "stream",
          "name": "stdout",
          "text": [
            "Decision Tree Training Accuracy: 88.10%\n",
            "Decision Tree Testing Accuracy: 84.82%\n"
          ]
        }
      ]
    },
    {
      "cell_type": "code",
      "source": [
        "from sklearn.metrics import accuracy_score,classification_report\n",
        "print(classification_report(dt_test_pred,y_test))"
      ],
      "metadata": {
        "id": "3AvAksFfezXJ",
        "colab": {
          "base_uri": "https://localhost:8080/"
        },
        "outputId": "e69a0fcd-f50e-4fda-be7d-929533b612ae"
      },
      "execution_count": null,
      "outputs": [
        {
          "output_type": "stream",
          "name": "stdout",
          "text": [
            "              precision    recall  f1-score   support\n",
            "\n",
            "           0       0.83      0.86      0.84      2367\n",
            "           1       0.87      0.84      0.85      2586\n",
            "\n",
            "    accuracy                           0.85      4953\n",
            "   macro avg       0.85      0.85      0.85      4953\n",
            "weighted avg       0.85      0.85      0.85      4953\n",
            "\n"
          ]
        }
      ]
    }
  ],
  "metadata": {
    "colab": {
      "provenance": [],
      "toc_visible": true
    },
    "kernelspec": {
      "display_name": "Python 3",
      "name": "python3"
    },
    "language_info": {
      "name": "python"
    }
  },
  "nbformat": 4,
  "nbformat_minor": 0
}